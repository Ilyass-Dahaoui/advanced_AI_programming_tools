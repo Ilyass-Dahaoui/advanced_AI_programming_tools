{
  "cells": [
    {
      "cell_type": "markdown",
      "id": "b29d51f3-6462-4067-a31a-84f5d8b82de1",
      "metadata": {
        "id": "b29d51f3-6462-4067-a31a-84f5d8b82de1"
      },
      "source": [
        "# Introduction to NumPy"
      ]
    },
    {
      "cell_type": "markdown",
      "id": "f884c061-c51e-42e5-bf19-6b08b8409761",
      "metadata": {
        "id": "f884c061-c51e-42e5-bf19-6b08b8409761"
      },
      "source": [
        "NumPy (Numerical Python) is a Python library for scientific computing, that provide high-performance vector, matrix, and higher-dimensional data structures for Python. It is implemented in C and Fortran so when calculations are vectorized (formulated with vectors and matrices), the performance is very good.\n",
        "\n",
        "[Official Documentation](https://numpy.org/)\n",
        "\n",
        "It offers ndarray data structure for storing and ufuncs for efficiently processing the (homogeneous) data. Some of the important functionalities include: basic slicing, advanced or fancy indexing, broadcasting, etc.\n",
        "\n",
        "**How are NumPy arrays different from Python lists?**\n",
        " - Python lists are very general. They can contain any kind of object. They are dynamically typed.\n",
        " - They do not support mathematical functions such as matrix and dot multiplications, etc. Implementing such functions for Python lists would not be very efficient because of the dynamic typing.\n",
        " - Numpy arrays are statically typed and homogeneous. The type of the elements is determined when the array is created.\n",
        " - Numpy arrays are memory efficient.\n",
        " - Because of the static typing, fast implementation of mathematical functions such as multiplication and addition of numpy arrays can be implemented in a compiled language (C and Fortran is used)."
      ]
    },
    {
      "cell_type": "markdown",
      "id": "313aa6d5-8935-49bb-8955-d245b7b68b57",
      "metadata": {
        "id": "313aa6d5-8935-49bb-8955-d245b7b68b57"
      },
      "source": [
        "## Creating N-dimensional NumPy arrays"
      ]
    },
    {
      "cell_type": "markdown",
      "id": "fa5fe73f-11ce-482b-ad0b-b37bd5507c75",
      "metadata": {
        "id": "fa5fe73f-11ce-482b-ad0b-b37bd5507c75"
      },
      "source": [
        "### Loading Libraries\n",
        "\n",
        "First, let's import the necessary libraries:"
      ]
    },
    {
      "cell_type": "code",
      "execution_count": null,
      "id": "d3564034-95b5-4ae5-85c4-69f3741e521b",
      "metadata": {
        "colab": {
          "base_uri": "https://localhost:8080/",
          "height": 35
        },
        "id": "d3564034-95b5-4ae5-85c4-69f3741e521b",
        "outputId": "0176e419-3844-4bdb-cfca-f4a10140cd40"
      },
      "outputs": [
        {
          "output_type": "execute_result",
          "data": {
            "text/plain": [
              "'1.26.4'"
            ],
            "application/vnd.google.colaboratory.intrinsic+json": {
              "type": "string"
            }
          },
          "metadata": {},
          "execution_count": 2
        }
      ],
      "source": [
        "import numpy as np\n",
        "\n",
        "# check version\n",
        "np.__version__"
      ]
    },
    {
      "cell_type": "markdown",
      "id": "0b8e4dde-1670-4b13-8d22-ea3ab63dc358",
      "metadata": {
        "id": "0b8e4dde-1670-4b13-8d22-ea3ab63dc358"
      },
      "source": [
        "There are a number of ways to initialize new numpy arrays, for example from\n",
        "\n",
        " - a Python list or tuples\n",
        " - using functions that are dedicated to generating numpy arrays, such as numpy.arange, numpy.linspace, etc.\n",
        " - reading data from files\n",
        "\n",
        "### From lists\n",
        "\n",
        "To create new vector and matrix arrays using Python lists we can use the numpy.array() function."
      ]
    },
    {
      "cell_type": "code",
      "execution_count": null,
      "id": "7944d53c-2e4f-4758-8e7e-e0cb8493c5d3",
      "metadata": {
        "colab": {
          "base_uri": "https://localhost:8080/"
        },
        "id": "7944d53c-2e4f-4758-8e7e-e0cb8493c5d3",
        "outputId": "f10610fc-df13-452b-8aed-7a5b661ce7a2"
      },
      "outputs": [
        {
          "output_type": "execute_result",
          "data": {
            "text/plain": [
              "array([1, 2, 3, 4], dtype=int32)"
            ]
          },
          "metadata": {},
          "execution_count": 5
        }
      ],
      "source": [
        "# a vector: the argument to the array function is a Python list\n",
        "# more generally, 1D array\n",
        "lst = [1,2,3,4.0]\n",
        "v = np.array(lst, dtype=np.int32)\n",
        "\n",
        "v"
      ]
    },
    {
      "cell_type": "code",
      "execution_count": null,
      "id": "4c1b75a5-be1b-4248-a630-d141249656c9",
      "metadata": {
        "colab": {
          "base_uri": "https://localhost:8080/"
        },
        "id": "4c1b75a5-be1b-4248-a630-d141249656c9",
        "outputId": "84029517-138e-48fb-81c9-1d6121f1be74"
      },
      "outputs": [
        {
          "output_type": "execute_result",
          "data": {
            "text/plain": [
              "array([1, 2, 3, 4], dtype=int32)"
            ]
          },
          "metadata": {},
          "execution_count": 6
        }
      ],
      "source": [
        "np.array([1, 2, 3, 4], dtype=np.int32)"
      ]
    },
    {
      "cell_type": "code",
      "execution_count": null,
      "id": "7d941f84-a910-4ae5-b4bf-0d123155d78c",
      "metadata": {
        "colab": {
          "base_uri": "https://localhost:8080/"
        },
        "id": "7d941f84-a910-4ae5-b4bf-0d123155d78c",
        "outputId": "92674e52-b44b-4344-b082-8005462ae9e0"
      },
      "outputs": [
        {
          "output_type": "execute_result",
          "data": {
            "text/plain": [
              "array([[1, 2],\n",
              "       [3, 4]])"
            ]
          },
          "metadata": {},
          "execution_count": 7
        }
      ],
      "source": [
        "# a matrix: the argument to the array function is a nested Python list (can also be a tuple of tuples)\n",
        "# more generally, a 2D array\n",
        "list_of_lists = [[1, 2], [3, 4]]\n",
        "M = np.array(list_of_lists)\n",
        "\n",
        "M"
      ]
    },
    {
      "cell_type": "code",
      "execution_count": null,
      "id": "3b74bbe7-a0b7-4f87-9cf2-61dafd7a745e",
      "metadata": {
        "colab": {
          "base_uri": "https://localhost:8080/"
        },
        "id": "3b74bbe7-a0b7-4f87-9cf2-61dafd7a745e",
        "outputId": "55343d0a-de5a-4b23-f644-84431bc8fbab"
      },
      "outputs": [
        {
          "output_type": "execute_result",
          "data": {
            "text/plain": [
              "array([[1, 2],\n",
              "       [3, 4]])"
            ]
          },
          "metadata": {},
          "execution_count": 8
        }
      ],
      "source": [
        "np.array([[1, 2],\n",
        "       [3, 4]])"
      ]
    },
    {
      "cell_type": "code",
      "execution_count": null,
      "id": "541df4c2-fb2c-4d76-aa58-7405cf7e5c14",
      "metadata": {
        "colab": {
          "base_uri": "https://localhost:8080/"
        },
        "id": "541df4c2-fb2c-4d76-aa58-7405cf7e5c14",
        "outputId": "72831982-31d0-411c-de42-1cf89f0634ef"
      },
      "outputs": [
        {
          "output_type": "execute_result",
          "data": {
            "text/plain": [
              "array([[1, 2, 3, 4]], dtype=int32)"
            ]
          },
          "metadata": {},
          "execution_count": 9
        }
      ],
      "source": [
        "# a row vector\n",
        "\n",
        "row_vec = v[np.newaxis, :]  # v[None, :]\n",
        "row_vec"
      ]
    },
    {
      "cell_type": "code",
      "execution_count": null,
      "id": "3435edb0-29ce-4cc2-9815-33fa3370f46a",
      "metadata": {
        "colab": {
          "base_uri": "https://localhost:8080/"
        },
        "id": "3435edb0-29ce-4cc2-9815-33fa3370f46a",
        "outputId": "1fb4ecec-f8cc-479a-c5a6-3f89c982949c"
      },
      "outputs": [
        {
          "output_type": "execute_result",
          "data": {
            "text/plain": [
              "array([[1, 2, 3, 4]], dtype=int32)"
            ]
          },
          "metadata": {},
          "execution_count": 10
        }
      ],
      "source": [
        "np.array([[1, 2, 3, 4]], dtype=np.int32)"
      ]
    },
    {
      "cell_type": "code",
      "execution_count": null,
      "id": "f162be03-946a-44c5-a688-851a294b85b9",
      "metadata": {
        "colab": {
          "base_uri": "https://localhost:8080/"
        },
        "id": "f162be03-946a-44c5-a688-851a294b85b9",
        "outputId": "bfdcc30f-6626-490e-d4e2-eee9a029bb35"
      },
      "outputs": [
        {
          "output_type": "execute_result",
          "data": {
            "text/plain": [
              "array([[1],\n",
              "       [2],\n",
              "       [3],\n",
              "       [4]], dtype=int32)"
            ]
          },
          "metadata": {},
          "execution_count": 11
        }
      ],
      "source": [
        "# a column vector\n",
        "col_vec = v[:, np.newaxis]  # v[:, None]\n",
        "col_vec"
      ]
    },
    {
      "cell_type": "code",
      "execution_count": null,
      "id": "a56f9ef9-aa48-4dbd-9c23-ff171f8d6b41",
      "metadata": {
        "colab": {
          "base_uri": "https://localhost:8080/"
        },
        "id": "a56f9ef9-aa48-4dbd-9c23-ff171f8d6b41",
        "outputId": "8a45eab2-3ac2-4d95-888d-55109625a83b"
      },
      "outputs": [
        {
          "output_type": "execute_result",
          "data": {
            "text/plain": [
              "array([[1],\n",
              "       [2],\n",
              "       [3],\n",
              "       [4]], dtype=int32)"
            ]
          },
          "metadata": {},
          "execution_count": 12
        }
      ],
      "source": [
        "np.array([[1],\n",
        "       [2],\n",
        "       [3],\n",
        "       [4]], dtype=np.int32)"
      ]
    },
    {
      "cell_type": "markdown",
      "id": "7d5830a0-474d-4c56-b626-c77b9c01bb91",
      "metadata": {
        "id": "7d5830a0-474d-4c56-b626-c77b9c01bb91"
      },
      "source": [
        "### Construction using intrinsic array generating functions\n",
        "\n",
        "NumPy provides many functions for generating arrays. Some of them are:\n",
        "\n",
        " - numpy.arange()\n",
        " - numpy.linspace()\n",
        " - numpy.logspace()\n",
        " - numpy.random."
      ]
    },
    {
      "cell_type": "code",
      "execution_count": null,
      "id": "199955ce-b519-46e5-8b01-e6f5f7df059d",
      "metadata": {
        "colab": {
          "base_uri": "https://localhost:8080/"
        },
        "id": "199955ce-b519-46e5-8b01-e6f5f7df059d",
        "outputId": "3a5d87ef-ac9e-4dbe-d981-d3917327f694"
      },
      "outputs": [
        {
          "output_type": "execute_result",
          "data": {
            "text/plain": [
              "array([ 0.        ,  0.20408163,  0.40816327,  0.6122449 ,  0.81632653,\n",
              "        1.02040816,  1.2244898 ,  1.42857143,  1.63265306,  1.83673469,\n",
              "        2.04081633,  2.24489796,  2.44897959,  2.65306122,  2.85714286,\n",
              "        3.06122449,  3.26530612,  3.46938776,  3.67346939,  3.87755102,\n",
              "        4.08163265,  4.28571429,  4.48979592,  4.69387755,  4.89795918,\n",
              "        5.10204082,  5.30612245,  5.51020408,  5.71428571,  5.91836735,\n",
              "        6.12244898,  6.32653061,  6.53061224,  6.73469388,  6.93877551,\n",
              "        7.14285714,  7.34693878,  7.55102041,  7.75510204,  7.95918367,\n",
              "        8.16326531,  8.36734694,  8.57142857,  8.7755102 ,  8.97959184,\n",
              "        9.18367347,  9.3877551 ,  9.59183673,  9.79591837, 10.        ])"
            ]
          },
          "metadata": {},
          "execution_count": 13
        }
      ],
      "source": [
        "# when using linspace, both end points ARE included\n",
        "np.linspace(0, 10)"
      ]
    },
    {
      "cell_type": "code",
      "execution_count": null,
      "id": "2413a1f2-6ae9-48b1-8af7-421ae67295ea",
      "metadata": {
        "colab": {
          "base_uri": "https://localhost:8080/"
        },
        "id": "2413a1f2-6ae9-48b1-8af7-421ae67295ea",
        "outputId": "3ec4e0e0-9b76-479f-a77a-09feb78ff694"
      },
      "outputs": [
        {
          "output_type": "execute_result",
          "data": {
            "text/plain": [
              "array([  1.        ,   1.742909  ,   3.03773178,   5.29449005,\n",
              "         9.22781435,  16.08324067,  28.03162489,  48.85657127,\n",
              "        85.15255772, 148.4131591 ])"
            ]
          },
          "metadata": {},
          "execution_count": 14
        }
      ],
      "source": [
        "np.logspace(0, 5, 10, base=np.e)"
      ]
    },
    {
      "cell_type": "code",
      "execution_count": null,
      "id": "be944252-6c99-431e-aebe-71d8275f4b1e",
      "metadata": {
        "colab": {
          "base_uri": "https://localhost:8080/"
        },
        "id": "be944252-6c99-431e-aebe-71d8275f4b1e",
        "outputId": "824f668e-b96c-4f9e-a165-03feea6e8786"
      },
      "outputs": [
        {
          "output_type": "execute_result",
          "data": {
            "text/plain": [
              "array([[[ 0.93996067,  1.24303005, -0.07681034,  1.53630215],\n",
              "        [-0.39628592,  0.65743747,  0.55091715, -2.13718422],\n",
              "        [-1.15091693, -0.17115183, -0.42711447,  0.44720991]],\n",
              "\n",
              "       [[-0.60787391, -0.85017823,  0.97683079, -0.26011945],\n",
              "        [-0.76291803, -0.25414269, -0.32138349, -0.77476096],\n",
              "        [-0.84726026,  2.37619033,  2.03851332, -0.77507687]]])"
            ]
          },
          "metadata": {},
          "execution_count": 15
        }
      ],
      "source": [
        "# a 3D array\n",
        "# a random array where the values come from a standard Normal distribution\n",
        "gaussian = np.random.randn(2 * 3 * 4)\n",
        "\n",
        "# reshape the array to desired shape.\n",
        "# only the number of dimensions can be altered\n",
        "# the number of elements CANNOT be changed during a reshape operation\n",
        "\n",
        "gaussian = gaussian.reshape(2, 3, 4)\n",
        "gaussian"
      ]
    },
    {
      "cell_type": "code",
      "execution_count": null,
      "id": "0b096a30-9115-403e-a263-021a1040df4d",
      "metadata": {
        "colab": {
          "base_uri": "https://localhost:8080/"
        },
        "id": "0b096a30-9115-403e-a263-021a1040df4d",
        "outputId": "98060f87-502a-4fea-abef-f5962848207f"
      },
      "outputs": [
        {
          "output_type": "execute_result",
          "data": {
            "text/plain": [
              "array([[0., 0., 0., 0.],\n",
              "       [0., 0., 0., 0.],\n",
              "       [0., 0., 0., 0.]])"
            ]
          },
          "metadata": {},
          "execution_count": 16
        }
      ],
      "source": [
        "# an array full of zero values\n",
        "# one can also specify a desired datatype\n",
        "\n",
        "zero_arr = np.zeros((3, 4))\n",
        "zero_arr"
      ]
    },
    {
      "cell_type": "code",
      "execution_count": null,
      "id": "a361b4b3-4479-4607-9f61-c61891b2cdbe",
      "metadata": {
        "colab": {
          "base_uri": "https://localhost:8080/"
        },
        "id": "a361b4b3-4479-4607-9f61-c61891b2cdbe",
        "outputId": "4111506b-ebb6-44b0-9ae1-d9517f33dfe4"
      },
      "outputs": [
        {
          "output_type": "execute_result",
          "data": {
            "text/plain": [
              "array([[1., 1., 1., 1.],\n",
              "       [1., 1., 1., 1.],\n",
              "       [1., 1., 1., 1.]], dtype=float32)"
            ]
          },
          "metadata": {},
          "execution_count": 17
        }
      ],
      "source": [
        "# an array full of ones\n",
        "# one can also specify datatype\n",
        "\n",
        "ones_arr = np.ones((3, 4), dtype=np.float32)\n",
        "ones_arr"
      ]
    },
    {
      "cell_type": "code",
      "execution_count": null,
      "id": "650e8412-67e9-4e67-a4a4-62c497ada750",
      "metadata": {
        "colab": {
          "base_uri": "https://localhost:8080/"
        },
        "id": "650e8412-67e9-4e67-a4a4-62c497ada750",
        "outputId": "49c435d2-ccaa-49a1-88d5-48ad3f8b2205"
      },
      "outputs": [
        {
          "output_type": "execute_result",
          "data": {
            "text/plain": [
              "array([[1., 0., 0.],\n",
              "       [0., 1., 0.],\n",
              "       [0., 0., 1.]], dtype=float128)"
            ]
          },
          "metadata": {},
          "execution_count": 18
        }
      ],
      "source": [
        "# a 3x3 identity (matrix) array\n",
        "\n",
        "iden = np.identity(3, dtype=np.float128)  # np.eye(4, dtype=np.float128)\n",
        "iden"
      ]
    },
    {
      "cell_type": "code",
      "execution_count": null,
      "id": "5238be2b-38ab-460a-b684-51535ec99c7f",
      "metadata": {
        "colab": {
          "base_uri": "https://localhost:8080/"
        },
        "id": "5238be2b-38ab-460a-b684-51535ec99c7f",
        "outputId": "24d1ebad-cc0e-421e-e514-5c7b32fe3545"
      },
      "outputs": [
        {
          "output_type": "execute_result",
          "data": {
            "text/plain": [
              "array([[1., 0., 0., 0.],\n",
              "       [0., 2., 0., 0.],\n",
              "       [0., 0., 3., 0.],\n",
              "       [0., 0., 0., 4.]])"
            ]
          },
          "metadata": {},
          "execution_count": 19
        }
      ],
      "source": [
        "# a diagonal array\n",
        "\n",
        "diag = np.diag([1, 2, 3, 4.0])\n",
        "diag"
      ]
    },
    {
      "cell_type": "markdown",
      "id": "57f78c86-b5a4-4020-a16f-7a71ba7ffadb",
      "metadata": {
        "id": "57f78c86-b5a4-4020-a16f-7a71ba7ffadb"
      },
      "source": [
        "## NumPy Array Attributes\n",
        "\n",
        "Attributes of arrays include:\n",
        "- **Determining the size, shape, memory consumption, and data types of arrays**\n",
        "- **Indexing of arrays**: Getting and setting the value of individual array elements\n",
        "- **Slicing of arrays**: Getting and setting smaller subarrays within a larger array\n",
        "- **Reshaping of arrays**: Changing the shape of a given array\n",
        "- **Joining and splitting of arrays**: Combining multiple arrays into one, and splitting one array into many\n",
        "\n",
        "Each array has attributes such as:\n",
        "\n",
        "- `ndim`: The number of dimensions\n",
        "- `shape`: The size of each dimension\n",
        "- `size`: The total number of elements in the array"
      ]
    },
    {
      "cell_type": "code",
      "execution_count": null,
      "id": "c3b8a71d-8d08-4e54-9a86-9d0a93ea766e",
      "metadata": {
        "id": "c3b8a71d-8d08-4e54-9a86-9d0a93ea766e"
      },
      "outputs": [],
      "source": [
        "# a 3D random array where the values come from a standard Normal distribution\n",
        "gaussian = np.random.randn(2 * 3 * 4).reshape((2, 3, 4))"
      ]
    },
    {
      "cell_type": "code",
      "execution_count": null,
      "id": "f0e123ea-f456-4be6-a3f1-e68af26b5b94",
      "metadata": {
        "colab": {
          "base_uri": "https://localhost:8080/"
        },
        "id": "f0e123ea-f456-4be6-a3f1-e68af26b5b94",
        "outputId": "1621f10b-2216-4ee8-9d60-eb9ea6f70d36"
      },
      "outputs": [
        {
          "output_type": "stream",
          "name": "stdout",
          "text": [
            "total dimensions of the array is:  3\n",
            "the shape of the array is:  (2, 3, 4)\n",
            "total number of items is:  24\n",
            "memory consumed by each item is:  8\n",
            "total memory consumed by the whole array is:  192\n"
          ]
        }
      ],
      "source": [
        "# get number of dimensions of the array\n",
        "gaussian.ndim\n",
        "print(\"total dimensions of the array is: \", gaussian.ndim)\n",
        "\n",
        "# get the shape of the array\n",
        "gaussian.shape\n",
        "print(\"the shape of the array is: \", gaussian.shape)\n",
        "\n",
        "# get the total number of elements in the array\n",
        "gaussian.size\n",
        "print(\"total number of items is: \", gaussian.size)\n",
        "\n",
        "# get memory consumed by each item in the array\n",
        "gaussian.itemsize\n",
        "print(\"memory consumed by each item is: \", gaussian.itemsize)\n",
        "\n",
        "# get memory consumed by the array\n",
        "gaussian.nbytes\n",
        "print(\"total memory consumed by the whole array is: \", gaussian.nbytes)"
      ]
    },
    {
      "cell_type": "markdown",
      "id": "5ad23b67-5766-48a8-ac4c-4aeb83b65e7c",
      "metadata": {
        "id": "5ad23b67-5766-48a8-ac4c-4aeb83b65e7c"
      },
      "source": [
        "## Array Indexing\n",
        "\n",
        "We can index elements in an array using square brackets and indices. For 1D arrays, indexing works the same as with Python list."
      ]
    },
    {
      "cell_type": "code",
      "execution_count": null,
      "id": "4f97a8b4-60df-4cfb-be25-44850dd90252",
      "metadata": {
        "colab": {
          "base_uri": "https://localhost:8080/"
        },
        "id": "4f97a8b4-60df-4cfb-be25-44850dd90252",
        "outputId": "afce236e-8dd5-4138-feb3-e38d2542b864"
      },
      "outputs": [
        {
          "output_type": "execute_result",
          "data": {
            "text/plain": [
              "array([18, 12, 15, 18,  5,  5, 11, 16, 12, 14])"
            ]
          },
          "metadata": {},
          "execution_count": 22
        }
      ],
      "source": [
        "# 1D array of random integers\n",
        "# get 10 integers from 0 to 23\n",
        "\n",
        "num_samples = 10\n",
        "integers = np.random.randint(23, size=num_samples)\n",
        "integers"
      ]
    },
    {
      "cell_type": "code",
      "execution_count": null,
      "id": "0f587664-43a7-4ed9-88c4-765e6352f8cf",
      "metadata": {
        "colab": {
          "base_uri": "https://localhost:8080/"
        },
        "id": "0f587664-43a7-4ed9-88c4-765e6352f8cf",
        "outputId": "5ccbf2d9-6556-4cc0-c446-5743208db8c4"
      },
      "outputs": [
        {
          "output_type": "execute_result",
          "data": {
            "text/plain": [
              "15"
            ]
          },
          "metadata": {},
          "execution_count": 23
        }
      ],
      "source": [
        "# indexing 1D array needs only one index\n",
        "# get 3rd element (remember: NumPy unlike MATLAB is 0 based indexing)\n",
        "integers[2]"
      ]
    },
    {
      "cell_type": "code",
      "execution_count": null,
      "id": "f3dd4fab-33b7-45a3-ba69-0706539837a7",
      "metadata": {
        "colab": {
          "base_uri": "https://localhost:8080/"
        },
        "id": "f3dd4fab-33b7-45a3-ba69-0706539837a7",
        "outputId": "61c35af3-f75d-4b14-c89a-f25ef916f87d"
      },
      "outputs": [
        {
          "output_type": "execute_result",
          "data": {
            "text/plain": [
              "array([[ 1,  2,  3,  4,  5,  6,  7,  8,  9, 10, 11, 12, 13, 14, 15],\n",
              "       [16, 17, 18, 19, 20, 21, 22, 23, 24, 25, 26, 27, 28, 29, 30],\n",
              "       [31, 32, 33, 34, 35, 36, 37, 38, 39, 40, 41, 42, 43, 44, 45]])"
            ]
          },
          "metadata": {},
          "execution_count": 24
        }
      ],
      "source": [
        "twoD_arr = np.arange(1, 46).reshape(3, -1)\n",
        "twoD_arr"
      ]
    },
    {
      "cell_type": "code",
      "execution_count": null,
      "id": "c1bd2694-3730-4be9-bfde-0b1b68e5d534",
      "metadata": {
        "colab": {
          "base_uri": "https://localhost:8080/"
        },
        "id": "c1bd2694-3730-4be9-bfde-0b1b68e5d534",
        "outputId": "a99526c6-1bb7-42c9-c5f6-40d5ec089a78"
      },
      "outputs": [
        {
          "output_type": "execute_result",
          "data": {
            "text/plain": [
              "45"
            ]
          },
          "metadata": {},
          "execution_count": 25
        }
      ],
      "source": [
        "# indexing 2D array needs only two indices.\n",
        "# then it returns a scalar value\n",
        "\n",
        "# value at last row and last column\n",
        "twoD_arr[-1, -1]"
      ]
    },
    {
      "cell_type": "code",
      "execution_count": null,
      "id": "e3653a6c-9a07-48a6-b7bf-d6d5374dbd45",
      "metadata": {
        "colab": {
          "base_uri": "https://localhost:8080/"
        },
        "id": "e3653a6c-9a07-48a6-b7bf-d6d5374dbd45",
        "outputId": "864d56b3-3d50-4ade-90bf-26ee1f75103d"
      },
      "outputs": [
        {
          "output_type": "execute_result",
          "data": {
            "text/plain": [
              "array([31, 32, 33, 34, 35, 36, 37, 38, 39, 40, 41, 42, 43, 44, 45])"
            ]
          },
          "metadata": {},
          "execution_count": 26
        }
      ],
      "source": [
        "# however, if we use only one (valid) index then it returns a 1D array\n",
        "\n",
        "# get all elments in the last row\n",
        "twoD_arr[-1]  # or twoD_arr[-1, ] or twoD_arr[-1, :]"
      ]
    },
    {
      "cell_type": "code",
      "execution_count": null,
      "id": "70fbe358-e898-496c-9266-b480c7354afc",
      "metadata": {
        "colab": {
          "base_uri": "https://localhost:8080/"
        },
        "id": "70fbe358-e898-496c-9266-b480c7354afc",
        "outputId": "bcdd50c1-6e9b-4125-f160-2de20eedd4dc"
      },
      "outputs": [
        {
          "output_type": "execute_result",
          "data": {
            "text/plain": [
              "array([[[-0.63720896, -0.58187428,  2.38685407,  0.53663879],\n",
              "        [ 0.95831579, -0.0446415 , -0.68606276, -1.12292585],\n",
              "        [ 0.1744492 ,  0.96085526, -0.7287163 ,  1.38716755]],\n",
              "\n",
              "       [[ 0.51950902, -2.58781142, -1.42527904,  1.71485703],\n",
              "        [-0.79579522, -1.33554042, -0.39889601, -2.34066178],\n",
              "        [ 0.78325111, -0.17855909,  0.22240456, -1.52571642]]])"
            ]
          },
          "metadata": {},
          "execution_count": 27
        }
      ],
      "source": [
        "# remember `gaussian` is a 3D array.\n",
        "gaussian"
      ]
    },
    {
      "cell_type": "code",
      "execution_count": null,
      "id": "0159d1ed-762a-4749-a5eb-4638d075a8d6",
      "metadata": {
        "colab": {
          "base_uri": "https://localhost:8080/"
        },
        "id": "0159d1ed-762a-4749-a5eb-4638d075a8d6",
        "outputId": "6b921afc-7be7-4de4-8024-fd30ba8f5e99"
      },
      "outputs": [
        {
          "output_type": "execute_result",
          "data": {
            "text/plain": [
              "array([[ 0.51950902, -2.58781142, -1.42527904,  1.71485703],\n",
              "       [-0.79579522, -1.33554042, -0.39889601, -2.34066178],\n",
              "       [ 0.78325111, -0.17855909,  0.22240456, -1.52571642]])"
            ]
          },
          "metadata": {},
          "execution_count": 28
        }
      ],
      "source": [
        "# So, a 2D array is returned when using one index\n",
        "\n",
        "# return last slice\n",
        "gaussian[-1]"
      ]
    },
    {
      "cell_type": "code",
      "execution_count": null,
      "id": "d93a33a2-183f-4e89-af53-f9e7971af5ae",
      "metadata": {
        "colab": {
          "base_uri": "https://localhost:8080/"
        },
        "id": "d93a33a2-183f-4e89-af53-f9e7971af5ae",
        "outputId": "2bba87f9-d7d2-43a3-d665-463c82105f2f"
      },
      "outputs": [
        {
          "output_type": "execute_result",
          "data": {
            "text/plain": [
              "array([ 0.51950902, -2.58781142, -1.42527904,  1.71485703])"
            ]
          },
          "metadata": {},
          "execution_count": 29
        }
      ],
      "source": [
        "# a 1D array is returned when using a pair of indices\n",
        "\n",
        "# return first row from last slice\n",
        "gaussian[-1, 0]"
      ]
    },
    {
      "cell_type": "code",
      "execution_count": null,
      "id": "c45289d1-11f0-45bf-a3ae-721b0446e810",
      "metadata": {
        "colab": {
          "base_uri": "https://localhost:8080/"
        },
        "id": "c45289d1-11f0-45bf-a3ae-721b0446e810",
        "outputId": "8e0cb635-9f05-48f5-9779-f34e6d4f59a2"
      },
      "outputs": [
        {
          "output_type": "execute_result",
          "data": {
            "text/plain": [
              "array([ 0.78325111, -0.17855909,  0.22240456, -1.52571642])"
            ]
          },
          "metadata": {},
          "execution_count": 30
        }
      ],
      "source": [
        "# return last row from last slice\n",
        "gaussian[-1, -1]"
      ]
    },
    {
      "cell_type": "code",
      "execution_count": null,
      "id": "23a6ed59-7b05-4ee9-a0a3-bca1bf44ee3b",
      "metadata": {
        "colab": {
          "base_uri": "https://localhost:8080/"
        },
        "id": "23a6ed59-7b05-4ee9-a0a3-bca1bf44ee3b",
        "outputId": "00e833ee-f706-4e59-8c4c-253191a8b2c9"
      },
      "outputs": [
        {
          "output_type": "execute_result",
          "data": {
            "text/plain": [
              "-1.52571641608341"
            ]
          },
          "metadata": {},
          "execution_count": 31
        }
      ],
      "source": [
        "# return last element of row of last slice\n",
        "idx = (-1, -1, -1)\n",
        "gaussian[idx]"
      ]
    },
    {
      "cell_type": "markdown",
      "id": "391f0a70-a2c1-4b8d-aa35-de85d277884e",
      "metadata": {
        "id": "391f0a70-a2c1-4b8d-aa35-de85d277884e"
      },
      "source": [
        "We can also assign new values to elements in an array using indexing:"
      ]
    },
    {
      "cell_type": "code",
      "execution_count": null,
      "id": "9c3e01fe-ea0b-40a7-80ed-5e23f9218109",
      "metadata": {
        "colab": {
          "base_uri": "https://localhost:8080/"
        },
        "id": "9c3e01fe-ea0b-40a7-80ed-5e23f9218109",
        "outputId": "6b097ed4-c281-4989-c0bd-6515daf76cf5"
      },
      "outputs": [
        {
          "output_type": "execute_result",
          "data": {
            "text/plain": [
              "array([18, 12, 99, 18,  5,  5, 11, 16, 12, 14])"
            ]
          },
          "metadata": {},
          "execution_count": 32
        }
      ],
      "source": [
        "# updating the array by assigning values\n",
        "# truncation will happen if there's a datatype mismatch\n",
        "#print(integers)\n",
        "integers[2] = 99.21\n",
        "integers"
      ]
    },
    {
      "cell_type": "markdown",
      "id": "6898df0d-88d1-4a35-98c1-0fdac7efda03",
      "metadata": {
        "id": "6898df0d-88d1-4a35-98c1-0fdac7efda03"
      },
      "source": [
        "## Index slicing\n",
        "\n",
        "Index slicing is the technical name for the syntax M[lower:upper:step] to extract part of an array.\n",
        "Negative indices counts from the end of the array (positive index from the begining):"
      ]
    },
    {
      "cell_type": "code",
      "execution_count": null,
      "id": "e9c17283-8d95-47ac-9b47-0fd5e3dca2bf",
      "metadata": {
        "colab": {
          "base_uri": "https://localhost:8080/"
        },
        "id": "e9c17283-8d95-47ac-9b47-0fd5e3dca2bf",
        "outputId": "13f247b0-88c6-46d9-faef-3e5ce165f5d3"
      },
      "outputs": [
        {
          "output_type": "execute_result",
          "data": {
            "text/plain": [
              "array([18, 12, 99, 18,  5,  5, 11, 16, 12, 14])"
            ]
          },
          "metadata": {},
          "execution_count": 33
        }
      ],
      "source": [
        "integers"
      ]
    },
    {
      "cell_type": "code",
      "execution_count": null,
      "id": "f5f40502-9671-4e7e-af20-f94954356989",
      "metadata": {
        "colab": {
          "base_uri": "https://localhost:8080/"
        },
        "id": "f5f40502-9671-4e7e-af20-f94954356989",
        "outputId": "368e87d1-93ce-4ce7-d01b-59900b432d39"
      },
      "outputs": [
        {
          "output_type": "execute_result",
          "data": {
            "text/plain": [
              "array([ 5, 11, 16, 12, 14])"
            ]
          },
          "metadata": {},
          "execution_count": 34
        }
      ],
      "source": [
        "# slice a portion of the array\n",
        "# similar to Python iterator slicing\n",
        "# x[start:stop:step]\n",
        "\n",
        "# get last 5 elements\n",
        "integers[-5:]\n",
        "\n",
        "# if `stop` is omitted then it'll be sliced till the end of the array\n",
        "# by default, step is 1"
      ]
    },
    {
      "cell_type": "code",
      "execution_count": null,
      "id": "7db630b7-78f0-4f07-b1eb-62ce2f34d05a",
      "metadata": {
        "colab": {
          "base_uri": "https://localhost:8080/"
        },
        "id": "7db630b7-78f0-4f07-b1eb-62ce2f34d05a",
        "outputId": "0a577ac9-1572-4266-ff16-da590625323b"
      },
      "outputs": [
        {
          "output_type": "execute_result",
          "data": {
            "text/plain": [
              "array([18, 99,  5, 11, 12])"
            ]
          },
          "metadata": {},
          "execution_count": 35
        }
      ],
      "source": [
        "# get alternative elements (every other element) from the array\n",
        "# equivalently step = 2\n",
        "\n",
        "integers[::2]"
      ]
    },
    {
      "cell_type": "code",
      "execution_count": null,
      "id": "094c6db3-f7f3-43f9-a919-9c42acec2843",
      "metadata": {
        "colab": {
          "base_uri": "https://localhost:8080/"
        },
        "id": "094c6db3-f7f3-43f9-a919-9c42acec2843",
        "outputId": "f9e2ed10-d254-4e0c-b343-0a0fcbae50ca"
      },
      "outputs": [
        {
          "output_type": "execute_result",
          "data": {
            "text/plain": [
              "array([14, 12, 16, 11,  5,  5, 18, 99, 12, 18])"
            ]
          },
          "metadata": {},
          "execution_count": 36
        }
      ],
      "source": [
        "# reversing the array\n",
        "integers[::-1]"
      ]
    },
    {
      "cell_type": "code",
      "execution_count": null,
      "id": "d87776ef-f9d8-4f2b-bcd7-179878143cd1",
      "metadata": {
        "colab": {
          "base_uri": "https://localhost:8080/"
        },
        "id": "d87776ef-f9d8-4f2b-bcd7-179878143cd1",
        "outputId": "dc6df991-8afc-4f22-ad3c-ee3e7fc9d00f"
      },
      "outputs": [
        {
          "output_type": "execute_result",
          "data": {
            "text/plain": [
              "array([18,  5,  5, 11, 16, 12, 14])"
            ]
          },
          "metadata": {},
          "execution_count": 37
        }
      ],
      "source": [
        "# forward traversal of array\n",
        "integers[3::]"
      ]
    },
    {
      "cell_type": "code",
      "execution_count": null,
      "id": "89114153-aef9-4c69-b00a-2199f8ddad35",
      "metadata": {
        "colab": {
          "base_uri": "https://localhost:8080/"
        },
        "id": "89114153-aef9-4c69-b00a-2199f8ddad35",
        "outputId": "0850ae23-5f1f-482d-bf47-557882820760"
      },
      "outputs": [
        {
          "output_type": "execute_result",
          "data": {
            "text/plain": [
              "array([18, 99, 12, 18])"
            ]
          },
          "metadata": {},
          "execution_count": 38
        }
      ],
      "source": [
        "# reverse travesal of array (starting from 4th element)\n",
        "integers[3::-1]"
      ]
    },
    {
      "cell_type": "markdown",
      "id": "e4a9fc75-5555-4bed-bf06-2745ffb301b5",
      "metadata": {
        "id": "e4a9fc75-5555-4bed-bf06-2745ffb301b5"
      },
      "source": [
        "Array slices are mutable: if they are assigned a new value the original array from which the slice was extracted is modified:"
      ]
    },
    {
      "cell_type": "code",
      "execution_count": null,
      "id": "9e2d0e91-e975-4ce1-ac46-7a547fcb603a",
      "metadata": {
        "colab": {
          "base_uri": "https://localhost:8080/"
        },
        "id": "9e2d0e91-e975-4ce1-ac46-7a547fcb603a",
        "outputId": "4d2fe3bb-d78f-42e7-8d43-ca4cc524df71"
      },
      "outputs": [
        {
          "output_type": "execute_result",
          "data": {
            "text/plain": [
              "array([18, 12, 99, 18,  5,  5, 11, 16, 12, 14])"
            ]
          },
          "metadata": {},
          "execution_count": 39
        }
      ],
      "source": [
        "integers"
      ]
    },
    {
      "cell_type": "code",
      "execution_count": null,
      "id": "744ea888-8995-40a3-ae47-0da7198fae40",
      "metadata": {
        "colab": {
          "base_uri": "https://localhost:8080/"
        },
        "id": "744ea888-8995-40a3-ae47-0da7198fae40",
        "outputId": "36adb9c5-5866-4a31-d322-5bd05cb52d31"
      },
      "outputs": [
        {
          "output_type": "execute_result",
          "data": {
            "text/plain": [
              "array([ 18,  12,  99,  18,   5,   5,  11,  16, -23, -46])"
            ]
          },
          "metadata": {},
          "execution_count": 40
        }
      ],
      "source": [
        "# assign new values to the last two elements\n",
        "integers[-2:] = [-23, -46]\n",
        "\n",
        "integers"
      ]
    },
    {
      "cell_type": "markdown",
      "id": "3f8e2dd0-7f62-4b93-9c5d-b4e212055947",
      "metadata": {
        "id": "3f8e2dd0-7f62-4b93-9c5d-b4e212055947"
      },
      "source": [
        "## nD arrays"
      ]
    },
    {
      "cell_type": "code",
      "execution_count": null,
      "id": "8ff46e47-2375-4848-a0c7-651833fe62a4",
      "metadata": {
        "colab": {
          "base_uri": "https://localhost:8080/"
        },
        "id": "8ff46e47-2375-4848-a0c7-651833fe62a4",
        "outputId": "4562f1b0-a50d-456b-bcbd-f25e0e703d5c"
      },
      "outputs": [
        {
          "output_type": "execute_result",
          "data": {
            "text/plain": [
              "array([[ 0,  1,  2,  3,  4],\n",
              "       [ 5,  6,  7,  8,  9],\n",
              "       [10, 11, 12, 13, 14],\n",
              "       [15, 16, 17, 18, 19]])"
            ]
          },
          "metadata": {},
          "execution_count": 41
        }
      ],
      "source": [
        "# a 2D array\n",
        "twenty = (np.arange(4 * 5)).reshape(4, 5)\n",
        "twenty"
      ]
    },
    {
      "cell_type": "code",
      "execution_count": null,
      "id": "2d01561d-b18f-4f3a-8a7f-cd9a7baa1c1b",
      "metadata": {
        "colab": {
          "base_uri": "https://localhost:8080/"
        },
        "id": "2d01561d-b18f-4f3a-8a7f-cd9a7baa1c1b",
        "outputId": "ea1a9bfe-c412-485e-d282-001c1399ef59"
      },
      "outputs": [
        {
          "output_type": "execute_result",
          "data": {
            "text/plain": [
              "array([[0, 1, 2],\n",
              "       [5, 6, 7]])"
            ]
          },
          "metadata": {},
          "execution_count": 42
        }
      ],
      "source": [
        "# slice first 2 rows and 3 columns\n",
        "twenty[:2, :3]"
      ]
    },
    {
      "cell_type": "code",
      "execution_count": null,
      "id": "31d9bcd0-5a21-4d65-9c11-c9f579f299c5",
      "metadata": {
        "colab": {
          "base_uri": "https://localhost:8080/"
        },
        "id": "31d9bcd0-5a21-4d65-9c11-c9f579f299c5",
        "outputId": "d989a641-f270-4b19-ff61-beacf1c704ca"
      },
      "outputs": [
        {
          "output_type": "execute_result",
          "data": {
            "text/plain": [
              "array([[ 0,  4],\n",
              "       [15, 19]])"
            ]
          },
          "metadata": {},
          "execution_count": 43
        }
      ],
      "source": [
        "# slice and get only the corner elements\n",
        "# three \"jumps\" along dimension 0\n",
        "# four \"jumps\" along dimension 1\n",
        "twenty[::3, ::4]"
      ]
    },
    {
      "cell_type": "code",
      "execution_count": null,
      "id": "01b774c7-91a5-473e-afad-68f64f189aba",
      "metadata": {
        "colab": {
          "base_uri": "https://localhost:8080/"
        },
        "id": "01b774c7-91a5-473e-afad-68f64f189aba",
        "outputId": "70133f83-d883-433e-f7d4-5fdccf028845"
      },
      "outputs": [
        {
          "output_type": "execute_result",
          "data": {
            "text/plain": [
              "array([[15, 16, 17, 18, 19],\n",
              "       [10, 11, 12, 13, 14],\n",
              "       [ 5,  6,  7,  8,  9],\n",
              "       [ 0,  1,  2,  3,  4]])"
            ]
          },
          "metadata": {},
          "execution_count": 44
        }
      ],
      "source": [
        "# reversing the order of elements along columns (i.e. along dimension 0)\n",
        "twenty[::-1, ...]"
      ]
    },
    {
      "cell_type": "code",
      "execution_count": null,
      "id": "759820f7-d9ec-4485-a87d-90f3931d22ad",
      "metadata": {
        "colab": {
          "base_uri": "https://localhost:8080/"
        },
        "id": "759820f7-d9ec-4485-a87d-90f3931d22ad",
        "outputId": "4af396a6-4f1a-4acb-afe7-ce284c9bee1e"
      },
      "outputs": [
        {
          "output_type": "execute_result",
          "data": {
            "text/plain": [
              "array([[ 4,  3,  2,  1,  0],\n",
              "       [ 9,  8,  7,  6,  5],\n",
              "       [14, 13, 12, 11, 10],\n",
              "       [19, 18, 17, 16, 15]])"
            ]
          },
          "metadata": {},
          "execution_count": 45
        }
      ],
      "source": [
        "# reversing the order of elements along rows (i.e. along dimension 1)\n",
        "twenty[..., ::-1]"
      ]
    },
    {
      "cell_type": "code",
      "execution_count": null,
      "id": "7788c07a-cd2b-4328-89b5-ff2335c9a75b",
      "metadata": {
        "colab": {
          "base_uri": "https://localhost:8080/"
        },
        "id": "7788c07a-cd2b-4328-89b5-ff2335c9a75b",
        "outputId": "2fe7f3fc-5cda-4366-eade-817463a5ae44"
      },
      "outputs": [
        {
          "output_type": "execute_result",
          "data": {
            "text/plain": [
              "array([[19, 18, 17, 16, 15],\n",
              "       [14, 13, 12, 11, 10],\n",
              "       [ 9,  8,  7,  6,  5],\n",
              "       [ 4,  3,  2,  1,  0]])"
            ]
          },
          "metadata": {},
          "execution_count": 46
        }
      ],
      "source": [
        "# reversing the rows and columns (i.e. along both dimensions)\n",
        "twenty[::-1, ::-1]"
      ]
    },
    {
      "cell_type": "code",
      "execution_count": null,
      "id": "d11365d6-ecc3-4243-83e9-87b9b6cfea95",
      "metadata": {
        "colab": {
          "base_uri": "https://localhost:8080/"
        },
        "id": "d11365d6-ecc3-4243-83e9-87b9b6cfea95",
        "outputId": "e4f7ce7d-21b2-43c3-88bc-362554cf25c4"
      },
      "outputs": [
        {
          "output_type": "execute_result",
          "data": {
            "text/plain": [
              "array([[19, 18, 17, 16, 15],\n",
              "       [14, 13, 12, 11, 10],\n",
              "       [ 9,  8,  7,  6,  5],\n",
              "       [ 4,  3,  2,  1,  0]])"
            ]
          },
          "metadata": {},
          "execution_count": 47
        }
      ],
      "source": [
        "# or more intuitively\n",
        "np.flip(twenty, axis=(0, 1))\n",
        "\n",
        "# or equivalently\n",
        "np.flipud(np.fliplr(twenty))\n",
        "np.fliplr(np.flipud(twenty))"
      ]
    },
    {
      "cell_type": "markdown",
      "id": "eb9780a9-61cb-4dcd-ac68-e4accdbbc696",
      "metadata": {
        "id": "eb9780a9-61cb-4dcd-ac68-e4accdbbc696"
      },
      "source": [
        "## Fancy indexing\n",
        "\n",
        "Fancy indexing is the name for when an array or a list is used in-place of an index:"
      ]
    },
    {
      "cell_type": "code",
      "execution_count": null,
      "id": "6708517a-c641-4ea0-abf1-87aacc5dff08",
      "metadata": {
        "colab": {
          "base_uri": "https://localhost:8080/"
        },
        "id": "6708517a-c641-4ea0-abf1-87aacc5dff08",
        "outputId": "f0287d7c-2015-4e7d-a38f-b30d4583b38d"
      },
      "outputs": [
        {
          "output_type": "execute_result",
          "data": {
            "text/plain": [
              "array([[ 0,  1,  2,  3,  4],\n",
              "       [ 5,  6,  7,  8,  9],\n",
              "       [10, 11, 12, 13, 14],\n",
              "       [15, 16, 17, 18, 19]])"
            ]
          },
          "metadata": {},
          "execution_count": 48
        }
      ],
      "source": [
        "# a 2D array\n",
        "twenty"
      ]
    },
    {
      "cell_type": "code",
      "execution_count": null,
      "id": "ccf90168-5fff-44ed-884b-ae53dc09e8cb",
      "metadata": {
        "colab": {
          "base_uri": "https://localhost:8080/"
        },
        "id": "ccf90168-5fff-44ed-884b-ae53dc09e8cb",
        "outputId": "a65cf611-4680-403c-d0f4-a9abdea5814f"
      },
      "outputs": [
        {
          "output_type": "execute_result",
          "data": {
            "text/plain": [
              "array([[ 5,  6,  7,  8,  9],\n",
              "       [10, 11, 12, 13, 14],\n",
              "       [15, 16, 17, 18, 19]])"
            ]
          },
          "metadata": {},
          "execution_count": 49
        }
      ],
      "source": [
        "# get 2nd, 3rd, and 4th rows\n",
        "row_indices = [1, 2, 3]\n",
        "twenty[row_indices]"
      ]
    },
    {
      "cell_type": "code",
      "execution_count": null,
      "id": "0577c090-3cda-4b6e-82fe-390d9697a61a",
      "metadata": {
        "colab": {
          "base_uri": "https://localhost:8080/"
        },
        "id": "0577c090-3cda-4b6e-82fe-390d9697a61a",
        "outputId": "168d0cd7-a084-4c34-a9a2-7cbbb9c90d9f"
      },
      "outputs": [
        {
          "output_type": "execute_result",
          "data": {
            "text/plain": [
              "array([ 6, 12, 19])"
            ]
          },
          "metadata": {},
          "execution_count": 50
        }
      ],
      "source": [
        "col_indices = [1, 2, -1] # remember, index -1 means the last element\n",
        "twenty[row_indices, col_indices]"
      ]
    },
    {
      "cell_type": "markdown",
      "id": "2a6e8bb1-e9ea-4ceb-ab7a-03b337920bdf",
      "metadata": {
        "id": "2a6e8bb1-e9ea-4ceb-ab7a-03b337920bdf"
      },
      "source": [
        "We can also use index masks: If the index mask is a NumPy array of data type bool, then an element is selected (True) or not (False) depending on the value of the index mask at the position of each element"
      ]
    },
    {
      "cell_type": "code",
      "execution_count": null,
      "id": "1f86736a-f02f-419e-a205-0431b97de9a4",
      "metadata": {
        "colab": {
          "base_uri": "https://localhost:8080/"
        },
        "id": "1f86736a-f02f-419e-a205-0431b97de9a4",
        "outputId": "478ed4cc-6b33-43c0-f3d5-32105388f728"
      },
      "outputs": [
        {
          "output_type": "execute_result",
          "data": {
            "text/plain": [
              "array([ 18,  12,  99,  18,   5,   5,  11,  16, -23, -46])"
            ]
          },
          "metadata": {},
          "execution_count": 51
        }
      ],
      "source": [
        "# 1D array\n",
        "integers"
      ]
    },
    {
      "cell_type": "code",
      "execution_count": null,
      "id": "7b233f6f-ef6a-4212-b760-97ae6dc82049",
      "metadata": {
        "colab": {
          "base_uri": "https://localhost:8080/"
        },
        "id": "7b233f6f-ef6a-4212-b760-97ae6dc82049",
        "outputId": "e57b42c2-be6c-4f7d-fa8d-6e2b592af6ff"
      },
      "outputs": [
        {
          "output_type": "execute_result",
          "data": {
            "text/plain": [
              "array([ 18,  99,   5,  11, -23])"
            ]
          },
          "metadata": {},
          "execution_count": 52
        }
      ],
      "source": [
        "# mask has to be of the same shape as the array to be indexed; else IndexError would be thrown\n",
        "# mask for indexing alternate elements in the array\n",
        "row_mask = np.array([True, False, True, False, True, False, True, False, True, False])\n",
        "\n",
        "integers[row_mask]"
      ]
    },
    {
      "cell_type": "code",
      "execution_count": null,
      "id": "e29269d4-e7dd-40d3-af9a-7da3022b7eac",
      "metadata": {
        "colab": {
          "base_uri": "https://localhost:8080/"
        },
        "id": "e29269d4-e7dd-40d3-af9a-7da3022b7eac",
        "outputId": "c74cc1cc-4946-407d-d2e4-0a920cdd2619"
      },
      "outputs": [
        {
          "output_type": "execute_result",
          "data": {
            "text/plain": [
              "array([ 18,  99,   5,  11, -23])"
            ]
          },
          "metadata": {},
          "execution_count": 53
        }
      ],
      "source": [
        "# alternatively\n",
        "row_mask = np.array([1, 0, 1, 0, 1, 0, 1, 0, 1, 0], dtype=bool)\n",
        "\n",
        "integers[row_mask]"
      ]
    },
    {
      "cell_type": "markdown",
      "id": "65793840-dd11-4dc5-9a67-b6ee9f56c0b6",
      "metadata": {
        "id": "65793840-dd11-4dc5-9a67-b6ee9f56c0b6"
      },
      "source": [
        "This feature is very useful to conditionally select elements from an array, using for example comparison operators:"
      ]
    },
    {
      "cell_type": "code",
      "execution_count": null,
      "id": "65b4cd4f-c7d6-42be-9479-1634dc554271",
      "metadata": {
        "colab": {
          "base_uri": "https://localhost:8080/"
        },
        "id": "65b4cd4f-c7d6-42be-9479-1634dc554271",
        "outputId": "1dc671c3-de28-46ff-fcfa-a26c2d42e0b8"
      },
      "outputs": [
        {
          "output_type": "execute_result",
          "data": {
            "text/plain": [
              "array([0. , 0.5, 1. , 1.5, 2. , 2.5, 3. , 3.5, 4. , 4.5, 5. , 5.5, 6. ,\n",
              "       6.5, 7. , 7.5, 8. , 8.5, 9. , 9.5])"
            ]
          },
          "metadata": {},
          "execution_count": 54
        }
      ],
      "source": [
        "range_arr = np.arange(0, 10, 0.5)\n",
        "range_arr"
      ]
    },
    {
      "cell_type": "code",
      "execution_count": null,
      "id": "6d65f331-71c6-4094-bf72-a966fb48de97",
      "metadata": {
        "colab": {
          "base_uri": "https://localhost:8080/"
        },
        "id": "6d65f331-71c6-4094-bf72-a966fb48de97",
        "outputId": "4002689b-86b5-43bd-bc15-baa11bf9ec4b"
      },
      "outputs": [
        {
          "output_type": "execute_result",
          "data": {
            "text/plain": [
              "array([False, False, False, False, False, False, False, False, False,\n",
              "       False, False,  True,  True,  True,  True, False, False, False,\n",
              "       False, False])"
            ]
          },
          "metadata": {},
          "execution_count": 55
        }
      ],
      "source": [
        "mask = (range_arr > 5) * (range_arr < 7.5)\n",
        "mask"
      ]
    },
    {
      "cell_type": "code",
      "execution_count": null,
      "id": "6e558db6-571f-4ac5-ac62-4d2658f74964",
      "metadata": {
        "colab": {
          "base_uri": "https://localhost:8080/"
        },
        "id": "6e558db6-571f-4ac5-ac62-4d2658f74964",
        "outputId": "0767d50b-c428-4e9a-ac7d-287b99c792e3"
      },
      "outputs": [
        {
          "output_type": "execute_result",
          "data": {
            "text/plain": [
              "array([5.5, 6. , 6.5, 7. ])"
            ]
          },
          "metadata": {},
          "execution_count": 56
        }
      ],
      "source": [
        "range_arr[mask]"
      ]
    },
    {
      "cell_type": "code",
      "execution_count": null,
      "id": "c07b18e2-6c36-498f-b635-f9d85b5e7eb4",
      "metadata": {
        "colab": {
          "base_uri": "https://localhost:8080/"
        },
        "id": "c07b18e2-6c36-498f-b635-f9d85b5e7eb4",
        "outputId": "dd1cd712-e020-419d-cf9e-83d560eca9e1"
      },
      "outputs": [
        {
          "output_type": "execute_result",
          "data": {
            "text/plain": [
              "array([5.5, 6. , 6.5, 7. ])"
            ]
          },
          "metadata": {},
          "execution_count": 57
        }
      ],
      "source": [
        "# or equivalently\n",
        "\n",
        "mask = (5 < range_arr) & (range_arr < 7.5)\n",
        "range_arr[mask]"
      ]
    },
    {
      "cell_type": "markdown",
      "id": "bcd05417-278a-4148-89a2-1e4b084bf4f2",
      "metadata": {
        "id": "bcd05417-278a-4148-89a2-1e4b084bf4f2"
      },
      "source": [
        "## Linear operations\n",
        "\n",
        "Vectorizing the code is key to writing efficient numerical calculation with Python/NumPy. This means that, as much as possible, a program should be formulated in terms of matrix and vector operations, like matrix-matrix multiplication."
      ]
    },
    {
      "cell_type": "markdown",
      "id": "4225e089-b71b-4454-be04-a75bc9b4fe91",
      "metadata": {
        "id": "4225e089-b71b-4454-be04-a75bc9b4fe91"
      },
      "source": [
        "### Scalar-array operations\n",
        "\n",
        "We can use the usual arithmetic operators to multiply, add, subtract, and divide arrays with scalar numbers."
      ]
    },
    {
      "cell_type": "code",
      "execution_count": null,
      "id": "5a1cf6d8-fa9f-488a-9f47-c6d1b7eec8ba",
      "metadata": {
        "colab": {
          "base_uri": "https://localhost:8080/"
        },
        "id": "5a1cf6d8-fa9f-488a-9f47-c6d1b7eec8ba",
        "outputId": "01131921-e2f6-4ee2-a741-564ecbca0aca"
      },
      "outputs": [
        {
          "output_type": "execute_result",
          "data": {
            "text/plain": [
              "array([0, 1, 2, 3, 4])"
            ]
          },
          "metadata": {},
          "execution_count": 58
        }
      ],
      "source": [
        "vec = np.arange(0, 5)\n",
        "\n",
        "vec"
      ]
    },
    {
      "cell_type": "code",
      "execution_count": null,
      "id": "4d68a4a1-6fc9-4d93-9a37-ffcdd0f70c19",
      "metadata": {
        "colab": {
          "base_uri": "https://localhost:8080/"
        },
        "id": "4d68a4a1-6fc9-4d93-9a37-ffcdd0f70c19",
        "outputId": "400e3b45-ce2d-4e32-98c4-ff0ba9cdeb29"
      },
      "outputs": [
        {
          "output_type": "execute_result",
          "data": {
            "text/plain": [
              "array([0, 2, 4, 6, 8])"
            ]
          },
          "metadata": {},
          "execution_count": 59
        }
      ],
      "source": [
        "# note that original `vec` still remains unaffected since we haven't assigned the new array to it.\n",
        "vec * 2"
      ]
    },
    {
      "cell_type": "code",
      "execution_count": null,
      "id": "3a68a3c6-527c-4d46-b93b-109479239d4b",
      "metadata": {
        "colab": {
          "base_uri": "https://localhost:8080/"
        },
        "id": "3a68a3c6-527c-4d46-b93b-109479239d4b",
        "outputId": "9560d4d2-6ad4-4ad3-e558-264762619a02"
      },
      "outputs": [
        {
          "output_type": "execute_result",
          "data": {
            "text/plain": [
              "array([2, 3, 4, 5, 6])"
            ]
          },
          "metadata": {},
          "execution_count": 60
        }
      ],
      "source": [
        "vec + 2"
      ]
    },
    {
      "cell_type": "markdown",
      "id": "de4b252b-c9ce-47d0-a1aa-0a96a82de110",
      "metadata": {
        "id": "de4b252b-c9ce-47d0-a1aa-0a96a82de110"
      },
      "source": [
        "### Element-wise array-array operations\n",
        "\n",
        "When we add, subtract, multiply, and divide arrays with each other, the default behaviour is element-wise operations:"
      ]
    },
    {
      "cell_type": "code",
      "execution_count": null,
      "id": "cfdc5bf9-ee1e-41da-a426-f40b6af8de74",
      "metadata": {
        "colab": {
          "base_uri": "https://localhost:8080/"
        },
        "id": "cfdc5bf9-ee1e-41da-a426-f40b6af8de74",
        "outputId": "6b98d4da-a2fd-4122-83e8-6e9eccaf82e3"
      },
      "outputs": [
        {
          "output_type": "execute_result",
          "data": {
            "text/plain": [
              "array([[ 0,  1,  2,  3,  4],\n",
              "       [ 5,  6,  7,  8,  9],\n",
              "       [10, 11, 12, 13, 14],\n",
              "       [15, 16, 17, 18, 19]])"
            ]
          },
          "metadata": {},
          "execution_count": 61
        }
      ],
      "source": [
        "arr = np.arange(4 * 5).reshape(4, 5)\n",
        "arr"
      ]
    },
    {
      "cell_type": "code",
      "execution_count": null,
      "id": "0425dbac-06a6-4259-9605-179037eceb47",
      "metadata": {
        "colab": {
          "base_uri": "https://localhost:8080/"
        },
        "id": "0425dbac-06a6-4259-9605-179037eceb47",
        "outputId": "a17c2e2e-a95c-446d-a309-f8aa0e318b47"
      },
      "outputs": [
        {
          "output_type": "execute_result",
          "data": {
            "text/plain": [
              "array([[  30,   80,  130,  180],\n",
              "       [  80,  255,  430,  605],\n",
              "       [ 130,  430,  730, 1030],\n",
              "       [ 180,  605, 1030, 1455]])"
            ]
          },
          "metadata": {},
          "execution_count": 62
        }
      ],
      "source": [
        "np.matmul(arr, (arr.T))\n"
      ]
    },
    {
      "cell_type": "code",
      "execution_count": null,
      "id": "39224c34-e0ba-4b68-95ce-c06304b5d765",
      "metadata": {
        "colab": {
          "base_uri": "https://localhost:8080/"
        },
        "id": "39224c34-e0ba-4b68-95ce-c06304b5d765",
        "outputId": "f2a6ec37-fde9-4cd9-dbea-f8a1c9d3c4e8"
      },
      "outputs": [
        {
          "output_type": "stream",
          "name": "stdout",
          "text": [
            "(5,) (4, 5)\n"
          ]
        },
        {
          "output_type": "execute_result",
          "data": {
            "text/plain": [
              "array([[ 0,  1,  4,  9, 16],\n",
              "       [ 0,  6, 14, 24, 36],\n",
              "       [ 0, 11, 24, 39, 56],\n",
              "       [ 0, 16, 34, 54, 76]])"
            ]
          },
          "metadata": {},
          "execution_count": 63
        }
      ],
      "source": [
        "print(vec.shape, arr.shape)\n",
        "\n",
        "# shape has to match\n",
        "vec * arr"
      ]
    },
    {
      "cell_type": "code",
      "execution_count": null,
      "id": "3154e310-e6c4-48d6-9a0f-029288c2b3fd",
      "metadata": {
        "colab": {
          "base_uri": "https://localhost:8080/",
          "height": 176
        },
        "id": "3154e310-e6c4-48d6-9a0f-029288c2b3fd",
        "outputId": "295742db-886d-4d9a-cd6f-338786ad51b5"
      },
      "outputs": [
        {
          "output_type": "error",
          "ename": "ValueError",
          "evalue": "operands could not be broadcast together with shapes (5,1) (4,5) ",
          "traceback": [
            "\u001b[0;31m---------------------------------------------------------------------------\u001b[0m",
            "\u001b[0;31mValueError\u001b[0m                                Traceback (most recent call last)",
            "\u001b[0;32m<ipython-input-64-ea24296fd5a0>\u001b[0m in \u001b[0;36m<cell line: 4>\u001b[0;34m()\u001b[0m\n\u001b[1;32m      2\u001b[0m \u001b[0;31m#print(vec[:, None].shape)\u001b[0m\u001b[0;34m\u001b[0m\u001b[0;34m\u001b[0m\u001b[0m\n\u001b[1;32m      3\u001b[0m \u001b[0;34m\u001b[0m\u001b[0m\n\u001b[0;32m----> 4\u001b[0;31m \u001b[0mvec\u001b[0m\u001b[0;34m[\u001b[0m\u001b[0;34m:\u001b[0m\u001b[0;34m,\u001b[0m \u001b[0;32mNone\u001b[0m\u001b[0;34m]\u001b[0m \u001b[0;34m*\u001b[0m \u001b[0marr\u001b[0m\u001b[0;34m\u001b[0m\u001b[0;34m\u001b[0m\u001b[0m\n\u001b[0m",
            "\u001b[0;31mValueError\u001b[0m: operands could not be broadcast together with shapes (5,1) (4,5) "
          ]
        }
      ],
      "source": [
        "# else no broadcasting will happen and an error is thrown\n",
        "#print(vec[:, None].shape)\n",
        "\n",
        "vec[:, None] * arr"
      ]
    },
    {
      "cell_type": "code",
      "execution_count": null,
      "id": "5baa78d0-bb47-449f-b878-8d90996b05a0",
      "metadata": {
        "colab": {
          "base_uri": "https://localhost:8080/"
        },
        "id": "5baa78d0-bb47-449f-b878-8d90996b05a0",
        "outputId": "6cf34a8d-679d-4789-ece2-7cb243ecfde5"
      },
      "outputs": [
        {
          "output_type": "execute_result",
          "data": {
            "text/plain": [
              "array([[ 0,  0,  0,  0,  0],\n",
              "       [ 5,  6,  7,  8,  9],\n",
              "       [20, 22, 24, 26, 28],\n",
              "       [45, 48, 51, 54, 57]])"
            ]
          },
          "metadata": {},
          "execution_count": 67
        }
      ],
      "source": [
        "# however, this would work\n",
        "vec[:4, None] * arr"
      ]
    },
    {
      "cell_type": "markdown",
      "id": "6968b026-d85d-4bba-99e0-c11b2176d6fc",
      "metadata": {
        "id": "6968b026-d85d-4bba-99e0-c11b2176d6fc"
      },
      "source": [
        "## Matrix operations\n",
        "\n",
        "What about the glorified matrix mutiplication? There are two ways. We can either use the dot function, which applies a matrix-matrix, matrix-vector, or inner vector multiplication to its two arguments. Or you can use the @ operator in Python 3"
      ]
    },
    {
      "cell_type": "code",
      "execution_count": null,
      "id": "fddc0730-bef5-4e9a-9575-be40db32f0e3",
      "metadata": {
        "colab": {
          "base_uri": "https://localhost:8080/"
        },
        "id": "fddc0730-bef5-4e9a-9575-be40db32f0e3",
        "outputId": "2c739992-5627-4d84-d271-d610f39d5fbe"
      },
      "outputs": [
        {
          "output_type": "stream",
          "name": "stdout",
          "text": [
            "(5, 4) (4, 5)\n"
          ]
        },
        {
          "output_type": "execute_result",
          "data": {
            "text/plain": [
              "array([[350, 380, 410, 440, 470],\n",
              "       [380, 414, 448, 482, 516],\n",
              "       [410, 448, 486, 524, 562],\n",
              "       [440, 482, 524, 566, 608],\n",
              "       [470, 516, 562, 608, 654]])"
            ]
          },
          "metadata": {},
          "execution_count": 68
        }
      ],
      "source": [
        "# matrix-matrix product\n",
        "print(arr.T.shape, arr.shape)\n",
        "np.dot(arr.T, arr)"
      ]
    },
    {
      "cell_type": "code",
      "execution_count": null,
      "id": "d4e98dcb-0866-4973-b108-a2aff2952156",
      "metadata": {
        "colab": {
          "base_uri": "https://localhost:8080/"
        },
        "id": "d4e98dcb-0866-4973-b108-a2aff2952156",
        "outputId": "058126e7-4003-4cbb-861d-42ebc5a91550"
      },
      "outputs": [
        {
          "output_type": "stream",
          "name": "stdout",
          "text": [
            "shapes:  (4, 5) (5,)\n"
          ]
        },
        {
          "output_type": "execute_result",
          "data": {
            "text/plain": [
              "array([ 30,  80, 130, 180])"
            ]
          },
          "metadata": {},
          "execution_count": 69
        }
      ],
      "source": [
        "# matrix-vector product\n",
        "print(\"shapes: \", arr.shape, vec.shape)\n",
        "np.dot(arr, vec)   # but not this: np.dot(vec, arr)"
      ]
    },
    {
      "cell_type": "code",
      "execution_count": null,
      "id": "b8051b65-04e3-4025-8eeb-65a73d2e294b",
      "metadata": {
        "colab": {
          "base_uri": "https://localhost:8080/"
        },
        "id": "b8051b65-04e3-4025-8eeb-65a73d2e294b",
        "outputId": "ab09b34a-4436-4ea4-8d3d-b81ce22bb5a2"
      },
      "outputs": [
        {
          "output_type": "stream",
          "name": "stdout",
          "text": [
            "shapes:  (1, 5) (5, 1)\n"
          ]
        },
        {
          "output_type": "execute_result",
          "data": {
            "text/plain": [
              "array([[30]])"
            ]
          },
          "metadata": {},
          "execution_count": 70
        }
      ],
      "source": [
        "col_vec = vec[:, None]\n",
        "print(\"shapes: \", (col_vec).T.shape, (col_vec).shape)\n",
        "\n",
        "# inner product\n",
        "(col_vec.T) @ (col_vec)"
      ]
    },
    {
      "cell_type": "markdown",
      "id": "1c8e8210-4329-4b9c-acd2-48c3b6534b9d",
      "metadata": {
        "id": "1c8e8210-4329-4b9c-acd2-48c3b6534b9d"
      },
      "source": [
        "### Stacking and repeating arrays\n",
        "\n",
        "Using function repeat, tile, vstack, hstack, and concatenate we can create larger vectors and matrices from smaller ones:"
      ]
    },
    {
      "cell_type": "code",
      "execution_count": null,
      "id": "39a30a15-bcd6-4a2d-8fd6-5ed20991f810",
      "metadata": {
        "colab": {
          "base_uri": "https://localhost:8080/"
        },
        "id": "39a30a15-bcd6-4a2d-8fd6-5ed20991f810",
        "outputId": "eed7a9cc-7d23-4b84-bc2c-aeb6069dd8d3"
      },
      "outputs": [
        {
          "output_type": "execute_result",
          "data": {
            "text/plain": [
              "array([[1, 2],\n",
              "       [3, 4]])"
            ]
          },
          "metadata": {},
          "execution_count": 71
        }
      ],
      "source": [
        "a = np.array([[1, 2], [3, 4]])\n",
        "a"
      ]
    },
    {
      "cell_type": "code",
      "execution_count": null,
      "id": "b186fca3-b02b-477d-9753-ede0b399dd75",
      "metadata": {
        "colab": {
          "base_uri": "https://localhost:8080/"
        },
        "id": "b186fca3-b02b-477d-9753-ede0b399dd75",
        "outputId": "431cd095-ca09-4ae4-e7e0-a834cebc16ad"
      },
      "outputs": [
        {
          "output_type": "execute_result",
          "data": {
            "text/plain": [
              "array([1, 1, 1, 2, 2, 2, 3, 3, 3, 4, 4, 4])"
            ]
          },
          "metadata": {},
          "execution_count": 72
        }
      ],
      "source": [
        "# repeat each element 3 times\n",
        "np.repeat(a, 3)"
      ]
    },
    {
      "cell_type": "code",
      "execution_count": null,
      "id": "26c4db60-dce7-4bcd-a77d-df5cf4fea066",
      "metadata": {
        "colab": {
          "base_uri": "https://localhost:8080/"
        },
        "id": "26c4db60-dce7-4bcd-a77d-df5cf4fea066",
        "outputId": "e9fc49c0-ec44-44c4-d96f-f05d94748033"
      },
      "outputs": [
        {
          "output_type": "execute_result",
          "data": {
            "text/plain": [
              "array([[1, 2, 1, 2, 1, 2],\n",
              "       [3, 4, 3, 4, 3, 4]])"
            ]
          },
          "metadata": {},
          "execution_count": 73
        }
      ],
      "source": [
        "# tile the matrix 3 times\n",
        "np.tile(a, 3)"
      ]
    },
    {
      "cell_type": "code",
      "execution_count": null,
      "id": "6b142069-7a58-42d3-b83c-0f15b6f41d22",
      "metadata": {
        "colab": {
          "base_uri": "https://localhost:8080/"
        },
        "id": "6b142069-7a58-42d3-b83c-0f15b6f41d22",
        "outputId": "399eb791-998a-4846-8ebb-dc8f6db2aae4"
      },
      "outputs": [
        {
          "output_type": "execute_result",
          "data": {
            "text/plain": [
              "array([[5, 6]])"
            ]
          },
          "metadata": {},
          "execution_count": 74
        }
      ],
      "source": [
        "b = np.array([[5, 6]])\n",
        "b"
      ]
    },
    {
      "cell_type": "code",
      "execution_count": null,
      "id": "50eee1ab-e764-4f35-800d-21373d6ebd4e",
      "metadata": {
        "colab": {
          "base_uri": "https://localhost:8080/"
        },
        "id": "50eee1ab-e764-4f35-800d-21373d6ebd4e",
        "outputId": "a88199e9-4447-4556-c486-219a8458877c"
      },
      "outputs": [
        {
          "output_type": "execute_result",
          "data": {
            "text/plain": [
              "array([[1, 2],\n",
              "       [3, 4],\n",
              "       [5, 6]])"
            ]
          },
          "metadata": {},
          "execution_count": 75
        }
      ],
      "source": [
        "# concatenate a and b along axis 0\n",
        "np.concatenate((a, b), axis=0)"
      ]
    },
    {
      "cell_type": "code",
      "execution_count": null,
      "id": "fca9a6f6-f9a7-46c1-b82a-fa7be8a24385",
      "metadata": {
        "colab": {
          "base_uri": "https://localhost:8080/"
        },
        "id": "fca9a6f6-f9a7-46c1-b82a-fa7be8a24385",
        "outputId": "ea156aad-f45e-405a-96f0-c2f5ec5d18b5"
      },
      "outputs": [
        {
          "output_type": "execute_result",
          "data": {
            "text/plain": [
              "array([[1, 2, 5],\n",
              "       [3, 4, 6]])"
            ]
          },
          "metadata": {},
          "execution_count": 76
        }
      ],
      "source": [
        "# concatenate a and b along axis 1\n",
        "np.concatenate((a, b.T), axis=1)"
      ]
    },
    {
      "cell_type": "markdown",
      "id": "cf26a6a4-88af-4bdc-903b-bc1e47305cac",
      "metadata": {
        "id": "cf26a6a4-88af-4bdc-903b-bc1e47305cac"
      },
      "source": [
        "### hstack and vstack"
      ]
    },
    {
      "cell_type": "code",
      "execution_count": null,
      "id": "657b6f05-4028-4560-8b80-3e356ba0ef8d",
      "metadata": {
        "colab": {
          "base_uri": "https://localhost:8080/"
        },
        "id": "657b6f05-4028-4560-8b80-3e356ba0ef8d",
        "outputId": "87e81882-8bc5-4519-b485-10f71e6a4194"
      },
      "outputs": [
        {
          "output_type": "execute_result",
          "data": {
            "text/plain": [
              "array([[1, 2],\n",
              "       [3, 4],\n",
              "       [5, 6]])"
            ]
          },
          "metadata": {},
          "execution_count": 77
        }
      ],
      "source": [
        "np.vstack((a,b))"
      ]
    },
    {
      "cell_type": "code",
      "execution_count": null,
      "id": "264c5f1f-3db4-4b8c-a109-2a5069b6f3d5",
      "metadata": {
        "colab": {
          "base_uri": "https://localhost:8080/"
        },
        "id": "264c5f1f-3db4-4b8c-a109-2a5069b6f3d5",
        "outputId": "0a8fef81-b2d6-4193-c3d5-6c59ed32493e"
      },
      "outputs": [
        {
          "output_type": "execute_result",
          "data": {
            "text/plain": [
              "array([[1, 2, 5],\n",
              "       [3, 4, 6]])"
            ]
          },
          "metadata": {},
          "execution_count": 78
        }
      ],
      "source": [
        "np.hstack((a,b.T))"
      ]
    },
    {
      "cell_type": "markdown",
      "id": "620f8887-3f2e-4017-8624-7b133bcc2ed7",
      "metadata": {
        "id": "620f8887-3f2e-4017-8624-7b133bcc2ed7"
      },
      "source": [
        "## Copy and \"deep copy\"\n",
        "\n",
        "For performance reasons, assignments in Python usually do not copy the underlaying objects. This is important for example when objects are passed between functions, to avoid an excessive amount of memory copying when it is not necessary (technical term: pass by reference)."
      ]
    },
    {
      "cell_type": "code",
      "execution_count": null,
      "id": "8527086c-7fc4-493e-bdad-79c26ebcb52b",
      "metadata": {
        "colab": {
          "base_uri": "https://localhost:8080/"
        },
        "id": "8527086c-7fc4-493e-bdad-79c26ebcb52b",
        "outputId": "542729f2-6165-49f4-8f16-00984285b628"
      },
      "outputs": [
        {
          "output_type": "execute_result",
          "data": {
            "text/plain": [
              "array([[1, 2],\n",
              "       [3, 4]])"
            ]
          },
          "metadata": {},
          "execution_count": 79
        }
      ],
      "source": [
        "A = np.array([[1, 2], [3, 4]])\n",
        "\n",
        "A"
      ]
    },
    {
      "cell_type": "code",
      "execution_count": null,
      "id": "a0109b7a-fb08-4008-9ae4-033b248b66cb",
      "metadata": {
        "colab": {
          "base_uri": "https://localhost:8080/"
        },
        "id": "a0109b7a-fb08-4008-9ae4-033b248b66cb",
        "outputId": "f6898115-8351-4844-c482-87e13730d86e"
      },
      "outputs": [
        {
          "output_type": "execute_result",
          "data": {
            "text/plain": [
              "array([[1, 2],\n",
              "       [3, 4]])"
            ]
          },
          "metadata": {},
          "execution_count": 80
        }
      ],
      "source": [
        "# now array B is referring to the same array data as A\n",
        "B = A\n",
        "B"
      ]
    },
    {
      "cell_type": "code",
      "execution_count": null,
      "id": "e8b4afa1-872e-4f61-a03c-c0399b01f735",
      "metadata": {
        "colab": {
          "base_uri": "https://localhost:8080/"
        },
        "id": "e8b4afa1-872e-4f61-a03c-c0399b01f735",
        "outputId": "d954f978-e9d5-479c-c2ef-a84d88ac5a58"
      },
      "outputs": [
        {
          "output_type": "execute_result",
          "data": {
            "text/plain": [
              "array([[10,  2],\n",
              "       [ 3,  4]])"
            ]
          },
          "metadata": {},
          "execution_count": 81
        }
      ],
      "source": [
        "# changing B affects A\n",
        "B[0,0] = 10\n",
        "\n",
        "A"
      ]
    },
    {
      "cell_type": "markdown",
      "id": "3edcbd82-99f3-4896-915f-d0b046f59491",
      "metadata": {
        "id": "3edcbd82-99f3-4896-915f-d0b046f59491"
      },
      "source": [
        "If we want to avoid such a behavior, so that when we get a new completely independent object B copied from A, then we need to do a so-called \"deep copy\" using the function copy:"
      ]
    },
    {
      "cell_type": "code",
      "execution_count": null,
      "id": "8efdf1d0-c0ee-458a-b440-40f3d98e8844",
      "metadata": {
        "id": "8efdf1d0-c0ee-458a-b440-40f3d98e8844"
      },
      "outputs": [],
      "source": [
        "B = np.copy(A)"
      ]
    },
    {
      "cell_type": "code",
      "execution_count": null,
      "id": "dece92ec-615f-4539-8b87-fdf5c526a705",
      "metadata": {
        "colab": {
          "base_uri": "https://localhost:8080/"
        },
        "id": "dece92ec-615f-4539-8b87-fdf5c526a705",
        "outputId": "f58e143a-ee73-4780-8022-95c7fa855be7"
      },
      "outputs": [
        {
          "output_type": "execute_result",
          "data": {
            "text/plain": [
              "array([[10,  2],\n",
              "       [ 3,  4]])"
            ]
          },
          "metadata": {},
          "execution_count": 83
        }
      ],
      "source": [
        "# now, if we modify B, A is not affected\n",
        "B[0,0] = -5\n",
        "\n",
        "A"
      ]
    },
    {
      "cell_type": "markdown",
      "id": "568f4961-f6b0-4d5a-ac78-46d821ebcea7",
      "metadata": {
        "id": "568f4961-f6b0-4d5a-ac78-46d821ebcea7"
      },
      "source": [
        "## Vectorizing functions\n",
        "\n",
        "As mentioned several times by now, to get good performance we should always try to avoid looping over elements in our vectors and matrices, and instead use vectorized algorithms. The first step in converting a scalar algorithm to a vectorized algorithm is to make sure that the functions we write work with vector inputs."
      ]
    },
    {
      "cell_type": "code",
      "execution_count": null,
      "id": "c50b2fd6-ed70-499a-94b0-611c72d6e776",
      "metadata": {
        "id": "c50b2fd6-ed70-499a-94b0-611c72d6e776"
      },
      "outputs": [],
      "source": [
        "def Theta(x):\n",
        "    \"\"\"\n",
        "    scalar implementation of the Heaviside step function.\n",
        "    \"\"\"\n",
        "    if x >= 0:\n",
        "        return 1\n",
        "    else:\n",
        "        return 0"
      ]
    },
    {
      "cell_type": "code",
      "execution_count": null,
      "id": "e012b540-858b-46ac-b6a3-9af8ee9a153e",
      "metadata": {
        "colab": {
          "base_uri": "https://localhost:8080/",
          "height": 297
        },
        "id": "e012b540-858b-46ac-b6a3-9af8ee9a153e",
        "outputId": "3c3139ec-6e29-4a9c-df5f-10d23358a5f1"
      },
      "outputs": [
        {
          "output_type": "error",
          "ename": "ValueError",
          "evalue": "The truth value of an array with more than one element is ambiguous. Use a.any() or a.all()",
          "traceback": [
            "\u001b[0;31m---------------------------------------------------------------------------\u001b[0m",
            "\u001b[0;31mValueError\u001b[0m                                Traceback (most recent call last)",
            "\u001b[0;32m<ipython-input-85-489043f2ba8f>\u001b[0m in \u001b[0;36m<cell line: 3>\u001b[0;34m()\u001b[0m\n\u001b[1;32m      1\u001b[0m \u001b[0mv1\u001b[0m \u001b[0;34m=\u001b[0m \u001b[0mnp\u001b[0m\u001b[0;34m.\u001b[0m\u001b[0marray\u001b[0m\u001b[0;34m(\u001b[0m\u001b[0;34m[\u001b[0m\u001b[0;34m-\u001b[0m\u001b[0;36m3\u001b[0m\u001b[0;34m,\u001b[0m\u001b[0;34m-\u001b[0m\u001b[0;36m2\u001b[0m\u001b[0;34m,\u001b[0m\u001b[0;34m-\u001b[0m\u001b[0;36m1\u001b[0m\u001b[0;34m,\u001b[0m\u001b[0;36m0\u001b[0m\u001b[0;34m,\u001b[0m\u001b[0;36m1\u001b[0m\u001b[0;34m,\u001b[0m\u001b[0;36m2\u001b[0m\u001b[0;34m,\u001b[0m\u001b[0;36m3\u001b[0m\u001b[0;34m]\u001b[0m\u001b[0;34m)\u001b[0m\u001b[0;34m\u001b[0m\u001b[0;34m\u001b[0m\u001b[0m\n\u001b[1;32m      2\u001b[0m \u001b[0;34m\u001b[0m\u001b[0m\n\u001b[0;32m----> 3\u001b[0;31m \u001b[0mTheta\u001b[0m\u001b[0;34m(\u001b[0m\u001b[0mv1\u001b[0m\u001b[0;34m)\u001b[0m\u001b[0;34m\u001b[0m\u001b[0;34m\u001b[0m\u001b[0m\n\u001b[0m",
            "\u001b[0;32m<ipython-input-84-d160bfd9c2b9>\u001b[0m in \u001b[0;36mTheta\u001b[0;34m(x)\u001b[0m\n\u001b[1;32m      3\u001b[0m     \u001b[0mscalar\u001b[0m \u001b[0mimplementation\u001b[0m \u001b[0mof\u001b[0m \u001b[0mthe\u001b[0m \u001b[0mHeaviside\u001b[0m \u001b[0mstep\u001b[0m \u001b[0mfunction\u001b[0m\u001b[0;34m.\u001b[0m\u001b[0;34m\u001b[0m\u001b[0;34m\u001b[0m\u001b[0m\n\u001b[1;32m      4\u001b[0m     \"\"\"\n\u001b[0;32m----> 5\u001b[0;31m     \u001b[0;32mif\u001b[0m \u001b[0mx\u001b[0m \u001b[0;34m>=\u001b[0m \u001b[0;36m0\u001b[0m\u001b[0;34m:\u001b[0m\u001b[0;34m\u001b[0m\u001b[0;34m\u001b[0m\u001b[0m\n\u001b[0m\u001b[1;32m      6\u001b[0m         \u001b[0;32mreturn\u001b[0m \u001b[0;36m1\u001b[0m\u001b[0;34m\u001b[0m\u001b[0;34m\u001b[0m\u001b[0m\n\u001b[1;32m      7\u001b[0m     \u001b[0;32melse\u001b[0m\u001b[0;34m:\u001b[0m\u001b[0;34m\u001b[0m\u001b[0;34m\u001b[0m\u001b[0m\n",
            "\u001b[0;31mValueError\u001b[0m: The truth value of an array with more than one element is ambiguous. Use a.any() or a.all()"
          ]
        }
      ],
      "source": [
        "v1 = np.array([-3,-2,-1,0,1,2,3])\n",
        "\n",
        "Theta(v1)"
      ]
    },
    {
      "cell_type": "code",
      "execution_count": null,
      "id": "6ff08aec-e9c1-4211-a1f7-76a9c14831f5",
      "metadata": {
        "id": "6ff08aec-e9c1-4211-a1f7-76a9c14831f5",
        "colab": {
          "base_uri": "https://localhost:8080/",
          "height": 35
        },
        "outputId": "21b7f2ad-e029-49bb-8ee3-09ade7416a07"
      },
      "outputs": [
        {
          "output_type": "execute_result",
          "data": {
            "text/plain": [
              "\"That didn't work because we didn't write the function Theta so that it can handle a vector input...\\n\\nTo get a vectorized version of Theta we can use the Numpy function vectorize. In many cases it can automatically vectorize a function:\""
            ],
            "application/vnd.google.colaboratory.intrinsic+json": {
              "type": "string"
            }
          },
          "metadata": {},
          "execution_count": 86
        }
      ],
      "source": [
        "\"\"\"That didn't work because we didn't write the function Theta so that it can handle a vector input...\n",
        "\n",
        "To get a vectorized version of Theta we can use the Numpy function vectorize. In many cases it can automatically vectorize a function:\"\"\""
      ]
    },
    {
      "cell_type": "code",
      "execution_count": null,
      "id": "af3e77ea-b2b4-46a9-827a-308977d509c1",
      "metadata": {
        "id": "af3e77ea-b2b4-46a9-827a-308977d509c1"
      },
      "outputs": [],
      "source": [
        "Theta_vec = np.vectorize(Theta)"
      ]
    },
    {
      "cell_type": "code",
      "execution_count": null,
      "id": "6f3fc9b1-0ca8-4735-aa6d-a3dd5368ee7f",
      "metadata": {
        "colab": {
          "base_uri": "https://localhost:8080/"
        },
        "id": "6f3fc9b1-0ca8-4735-aa6d-a3dd5368ee7f",
        "outputId": "f2dd3aea-62ce-4323-f98a-6a9bfcb4e5f5"
      },
      "outputs": [
        {
          "output_type": "execute_result",
          "data": {
            "text/plain": [
              "array([0, 0, 0, 1, 1, 1, 1])"
            ]
          },
          "metadata": {},
          "execution_count": 88
        }
      ],
      "source": [
        "Theta_vec(v1)"
      ]
    },
    {
      "cell_type": "code",
      "execution_count": null,
      "id": "4e5b2ac3-a50d-4701-9838-215cc0878bf3",
      "metadata": {
        "id": "4e5b2ac3-a50d-4701-9838-215cc0878bf3",
        "colab": {
          "base_uri": "https://localhost:8080/",
          "height": 106
        },
        "outputId": "d0aa31f3-0f10-4534-97ed-9ba5edaf0ff6"
      },
      "outputs": [
        {
          "output_type": "error",
          "ename": "SyntaxError",
          "evalue": "invalid syntax (<ipython-input-89-1f275f8b80de>, line 1)",
          "traceback": [
            "\u001b[0;36m  File \u001b[0;32m\"<ipython-input-89-1f275f8b80de>\"\u001b[0;36m, line \u001b[0;32m1\u001b[0m\n\u001b[0;31m    we can also implement the function to accept a vector input from the beginning (requires more effort but might give better performance):\u001b[0m\n\u001b[0m       ^\u001b[0m\n\u001b[0;31mSyntaxError\u001b[0m\u001b[0;31m:\u001b[0m invalid syntax\n"
          ]
        }
      ],
      "source": [
        "\"we can also implement the function to accept a vector input f2rom the beginning (requires more effort but might give better performance):"
      ]
    },
    {
      "cell_type": "code",
      "execution_count": null,
      "id": "2a7b4dab-3c86-4c69-aa7d-2565c8703c12",
      "metadata": {
        "id": "2a7b4dab-3c86-4c69-aa7d-2565c8703c12"
      },
      "outputs": [],
      "source": [
        "def Theta(x):\n",
        "    \"\"\"\n",
        "    Vector-aware implementation of the Heaviside step function.\n",
        "    \"\"\"\n",
        "    return 1 * (x >= 0)"
      ]
    },
    {
      "cell_type": "code",
      "execution_count": null,
      "id": "f8616cc9-d56c-4f49-afe5-3b7caf44b575",
      "metadata": {
        "id": "f8616cc9-d56c-4f49-afe5-3b7caf44b575"
      },
      "outputs": [],
      "source": [
        "Theta(v1)"
      ]
    },
    {
      "cell_type": "code",
      "execution_count": null,
      "id": "8e4fde30-0133-460d-95be-8dad2f399743",
      "metadata": {
        "id": "8e4fde30-0133-460d-95be-8dad2f399743"
      },
      "outputs": [],
      "source": [
        "# it even works with scalar input\n",
        "Theta(-1.2), Theta(2.6)"
      ]
    },
    {
      "cell_type": "markdown",
      "id": "47fb7b27-2f0c-4a1e-846d-e7bb5aa63b73",
      "metadata": {
        "id": "47fb7b27-2f0c-4a1e-846d-e7bb5aa63b73"
      },
      "source": [
        "## Exercices"
      ]
    },
    {
      "cell_type": "markdown",
      "id": "ee713ca6-fd21-425c-9191-9889a5633114",
      "metadata": {
        "id": "ee713ca6-fd21-425c-9191-9889a5633114"
      },
      "source": [
        "### Exercise 1: Creating and Manipulating NumPy Arrays\n",
        "\n",
        "- Create a 1D NumPy array from the list [5, 10, 15, 20, 25]. Convert the array to type float64 and print it.\n",
        "\n",
        "- Create a 2D NumPy array from the nested list [[1, 2, 3], [4, 5, 6], [7, 8, 9]]. Print the shape and size of the array.\n",
        "\n",
        "- Create a 3D NumPy array with random values of shape (2, 3, 4). Print the number of dimensions and the shape of the array."
      ]
    },
    {
      "cell_type": "code",
      "source": [
        "L=[5, 10, 15, 20, 25]\n",
        "arr=np.array(L,dtype=np.float64)\n",
        "arr"
      ],
      "metadata": {
        "id": "HO5NOjc_lXfq",
        "colab": {
          "base_uri": "https://localhost:8080/"
        },
        "outputId": "ee6dc9f6-a958-4a3e-cbec-f5036299c883"
      },
      "id": "HO5NOjc_lXfq",
      "execution_count": null,
      "outputs": [
        {
          "output_type": "execute_result",
          "data": {
            "text/plain": [
              "array([ 5., 10., 15., 20., 25.])"
            ]
          },
          "metadata": {},
          "execution_count": 4
        }
      ]
    },
    {
      "cell_type": "code",
      "source": [
        "L_2D=[[1, 2, 3], [4, 5, 6], [7, 8, 9]]\n",
        "arr_2D=np.array(L_2D)\n",
        "print(f\"the 2D_array:\\n {arr_2D} \\n The form:{arr_2D.shape}\\n The size : {arr_2D.size}\")"
      ],
      "metadata": {
        "colab": {
          "base_uri": "https://localhost:8080/"
        },
        "id": "eDO2pH85wGVv",
        "outputId": "002f1cdf-ca0f-433c-b994-1ed738ac6a11"
      },
      "id": "eDO2pH85wGVv",
      "execution_count": null,
      "outputs": [
        {
          "output_type": "stream",
          "name": "stdout",
          "text": [
            "the 2D_array:\n",
            " [[1 2 3]\n",
            " [4 5 6]\n",
            " [7 8 9]] \n",
            " The form:(3, 3)\n",
            " The size : 9\n"
          ]
        }
      ]
    },
    {
      "cell_type": "code",
      "source": [
        "arr_3D=np.random.random((2,3,4)) ; arr_3D"
      ],
      "metadata": {
        "colab": {
          "base_uri": "https://localhost:8080/"
        },
        "id": "YvX_r2dcyTOr",
        "outputId": "e87f5048-957d-49c7-ba1f-43ce4ff440d5"
      },
      "id": "YvX_r2dcyTOr",
      "execution_count": null,
      "outputs": [
        {
          "output_type": "execute_result",
          "data": {
            "text/plain": [
              "array([[[0.28917099, 0.09239308, 0.81083298, 0.82872246],\n",
              "        [0.45450298, 0.98065166, 0.1615572 , 0.68392235],\n",
              "        [0.46754061, 0.52132168, 0.84242974, 0.26843378]],\n",
              "\n",
              "       [[0.30716874, 0.30111466, 0.02383552, 0.3596453 ],\n",
              "        [0.42076572, 0.14627423, 0.84320203, 0.80835658],\n",
              "        [0.99371223, 0.74235076, 0.31451843, 0.74238645]]])"
            ]
          },
          "metadata": {},
          "execution_count": 8
        }
      ]
    },
    {
      "cell_type": "markdown",
      "id": "3d4dbc34-57e5-434d-a98f-55fe6f1493e6",
      "metadata": {
        "id": "3d4dbc34-57e5-434d-a98f-55fe6f1493e6"
      },
      "source": [
        "### Exercise 3: Advanced Array Manipulations\n",
        "\n",
        "- Create a 1D NumPy array with the numbers from 0 to 9. Reverse the array and print it.\n",
        "\n",
        "- Create a 2D NumPy array with the numbers from 0 to 11, arranged in a 3x4 shape. Extract a subarray consisting of the first two rows and the last two columns, and print it.\n",
        "\n",
        "- Create a 2D NumPy array of shape (5, 5) with random integers between 0 and 10. Replace all elements greater than 5 with 0 and print the modified array."
      ]
    },
    {
      "cell_type": "code",
      "source": [
        "np.array(range(10)[::-1])"
      ],
      "metadata": {
        "colab": {
          "base_uri": "https://localhost:8080/"
        },
        "id": "UjjScs0v2n-S",
        "outputId": "5dc9bd2a-20bf-434a-a3d9-7a104b8f3ef2"
      },
      "id": "UjjScs0v2n-S",
      "execution_count": null,
      "outputs": [
        {
          "output_type": "execute_result",
          "data": {
            "text/plain": [
              "array([9, 8, 7, 6, 5, 4, 3, 2, 1, 0])"
            ]
          },
          "metadata": {},
          "execution_count": 9
        }
      ]
    },
    {
      "cell_type": "code",
      "source": [
        "arr_2D_11=np.array(range(12)).reshape(3,4);arr_2D_11"
      ],
      "metadata": {
        "colab": {
          "base_uri": "https://localhost:8080/"
        },
        "id": "bPIuf6Aj3Y2a",
        "outputId": "2a241edc-b42c-4043-bf92-577379ffb50c"
      },
      "id": "bPIuf6Aj3Y2a",
      "execution_count": null,
      "outputs": [
        {
          "output_type": "execute_result",
          "data": {
            "text/plain": [
              "array([[ 0,  1,  2,  3],\n",
              "       [ 4,  5,  6,  7],\n",
              "       [ 8,  9, 10, 11]])"
            ]
          },
          "metadata": {},
          "execution_count": 12
        }
      ]
    },
    {
      "cell_type": "code",
      "source": [
        "subarray =arr_2D_11[:2, -2:] ;subarray"
      ],
      "metadata": {
        "colab": {
          "base_uri": "https://localhost:8080/"
        },
        "id": "AA3nwl5Q32Pe",
        "outputId": "5d959d4b-0646-41e2-bc55-60de7c8090d6"
      },
      "id": "AA3nwl5Q32Pe",
      "execution_count": null,
      "outputs": [
        {
          "output_type": "execute_result",
          "data": {
            "text/plain": [
              "array([[2, 3],\n",
              "       [6, 7]])"
            ]
          },
          "metadata": {},
          "execution_count": 13
        }
      ]
    },
    {
      "cell_type": "markdown",
      "id": "e7c86dd4-03fb-44d7-a644-19f4c403a12e",
      "metadata": {
        "id": "e7c86dd4-03fb-44d7-a644-19f4c403a12e"
      },
      "source": [
        "### Exercise 4: Array Initialization and Attributes\n",
        "\n",
        "- Create a 3x3 identity matrix using NumPy and print its attributes: ndim, shape, size, itemsize, and nbytes.\n",
        "\n",
        "- Create an array of 10 evenly spaced numbers between 0 and 5 using numpy.linspace(). Print the array and its datatype.\n",
        "\n",
        "- Create a 3D array of shape (2, 3, 4) with random values from a standard normal distribution. Print the array and the sum of all elements."
      ]
    },
    {
      "cell_type": "code",
      "source": [
        "id_3=np.eye(3);id_3"
      ],
      "metadata": {
        "colab": {
          "base_uri": "https://localhost:8080/"
        },
        "id": "kS_5qMlO6xt1",
        "outputId": "9649478e-0e96-472c-f915-7023b2685332"
      },
      "id": "kS_5qMlO6xt1",
      "execution_count": null,
      "outputs": [
        {
          "output_type": "execute_result",
          "data": {
            "text/plain": [
              "array([[1., 0., 0.],\n",
              "       [0., 1., 0.],\n",
              "       [0., 0., 1.]])"
            ]
          },
          "metadata": {},
          "execution_count": 14
        }
      ]
    },
    {
      "cell_type": "code",
      "source": [
        "print(id_3.ndim)\n",
        "print(id_3.size)\n",
        "print(id_3.shape)\n",
        "print(id_3.itemsize)\n",
        "print(id_3.nbytes)"
      ],
      "metadata": {
        "colab": {
          "base_uri": "https://localhost:8080/"
        },
        "id": "HbU6n6Yb9PMJ",
        "outputId": "f617cd0e-4ea3-4680-dbeb-d8570b55d7e8"
      },
      "id": "HbU6n6Yb9PMJ",
      "execution_count": null,
      "outputs": [
        {
          "output_type": "stream",
          "name": "stdout",
          "text": [
            "2\n",
            "9\n",
            "(3, 3)\n",
            "8\n",
            "72\n"
          ]
        }
      ]
    },
    {
      "cell_type": "code",
      "source": [
        "array_3D = np.random.randn(2, 3, 4);\n",
        "print(array_3D)\n",
        "print(array_3D.sum())"
      ],
      "metadata": {
        "colab": {
          "base_uri": "https://localhost:8080/"
        },
        "id": "z8lDCKo9_RMe",
        "outputId": "c015200b-3f8a-4f47-a512-3d7706f06a3b"
      },
      "id": "z8lDCKo9_RMe",
      "execution_count": null,
      "outputs": [
        {
          "output_type": "stream",
          "name": "stdout",
          "text": [
            "[[[ 0.03895117 -0.57918125  0.11451128  0.4425767 ]\n",
            "  [ 1.08984462  0.87921088  1.72230158 -0.00506956]\n",
            "  [ 1.28089824 -0.44509172  0.48936408  2.47706006]]\n",
            "\n",
            " [[ 0.13156701  0.53563453  0.69221413 -0.06698679]\n",
            "  [ 0.01929105 -0.33286071 -1.30623052  2.91557849]\n",
            "  [-1.25098046 -1.11236535 -0.53973983 -0.32687508]]]\n",
            "6.863622539524543\n"
          ]
        }
      ]
    },
    {
      "cell_type": "markdown",
      "id": "e27faf4f-15f8-4f8e-8633-a3a9f313ebe4",
      "metadata": {
        "id": "e27faf4f-15f8-4f8e-8633-a3a9f313ebe4"
      },
      "source": [
        "### Exercise 5: Fancy Indexing and Masking\n",
        "\n",
        "- Create a 1D NumPy array with random integers between 0 and 50 of size 20. Use fancy indexing to extract elements at indices [2, 5, 7, 10, 15] and print them.\n",
        "\n",
        "- Create a 2D NumPy array with random integers between 0 and 30 of shape (4, 5). Use a boolean mask to select all elements greater than 15 and print them.\n",
        "\n",
        "- Create a 1D NumPy array of 10 random integers between -10 and 10. Use a boolean mask to set all negative values to zero and print the modified array."
      ]
    },
    {
      "cell_type": "code",
      "source": [
        "A=np.array(np.random.randint(0,50,20));A\n"
      ],
      "metadata": {
        "colab": {
          "base_uri": "https://localhost:8080/"
        },
        "id": "deESKlEIAumV",
        "outputId": "84354386-7c7c-4874-aa9c-d9a23a32ec25"
      },
      "id": "deESKlEIAumV",
      "execution_count": null,
      "outputs": [
        {
          "output_type": "execute_result",
          "data": {
            "text/plain": [
              "array([24, 27, 23, 32, 16,  9,  6, 38, 28,  7, 25, 45, 30, 14, 25, 46, 39,\n",
              "        0, 24, 45])"
            ]
          },
          "metadata": {},
          "execution_count": 25
        }
      ]
    },
    {
      "cell_type": "code",
      "source": [
        "indices=[2,5,7,10,15];A[indices]"
      ],
      "metadata": {
        "colab": {
          "base_uri": "https://localhost:8080/"
        },
        "id": "HQTiX8KRGY_q",
        "outputId": "1b8049fe-5d9f-4359-ed1b-0036c4aff14e"
      },
      "id": "HQTiX8KRGY_q",
      "execution_count": null,
      "outputs": [
        {
          "output_type": "execute_result",
          "data": {
            "text/plain": [
              "array([23,  9, 38, 25, 46])"
            ]
          },
          "metadata": {},
          "execution_count": 26
        }
      ]
    },
    {
      "cell_type": "code",
      "source": [
        "array_2D = np.random.randint(0, 31, size=(4, 5))\n",
        "mask = array_2D > 15\n",
        "selected_elements = array_2D[mask] ;selected_elements"
      ],
      "metadata": {
        "colab": {
          "base_uri": "https://localhost:8080/"
        },
        "id": "DN3qLQVIHMup",
        "outputId": "90289940-a18e-48c6-b0e9-5213a7a9d7ac"
      },
      "id": "DN3qLQVIHMup",
      "execution_count": null,
      "outputs": [
        {
          "output_type": "execute_result",
          "data": {
            "text/plain": [
              "array([22, 20, 24, 23, 25, 26, 24, 22, 28, 21])"
            ]
          },
          "metadata": {},
          "execution_count": 29
        }
      ]
    },
    {
      "cell_type": "markdown",
      "id": "f180b452-97ed-46e6-bb11-225baa0578a1",
      "metadata": {
        "id": "f180b452-97ed-46e6-bb11-225baa0578a1"
      },
      "source": [
        "### Exercise 7: Combining and Splitting Arrays\n",
        "\n",
        "- Create two 1D NumPy arrays of length 5 with random integers between 0 and 10. Concatenate the two arrays and print the result.\n",
        "\n",
        "- Create a 2D NumPy array of shape (6, 4) with random integers between 0 and 10. Split the array into two equal parts along the row axis and print them.\n",
        "\n",
        "- Create a 2D NumPy array of shape (3, 6) with random integers between 0 and 10. Split the array into three equal parts along the column axis and print them."
      ]
    },
    {
      "cell_type": "code",
      "source": [
        "array_1 = np.random.randint(0, 11, size=5)\n",
        "array_2 = np.random.randint(0, 11, size=5)\n",
        "concatenated_array = np.concatenate((array_1, array_2)) ;concatenated_array"
      ],
      "metadata": {
        "colab": {
          "base_uri": "https://localhost:8080/"
        },
        "id": "x3chDAuVJKmE",
        "outputId": "a3783fc5-0189-45af-cf81-dbc287d22f6a"
      },
      "id": "x3chDAuVJKmE",
      "execution_count": null,
      "outputs": [
        {
          "output_type": "execute_result",
          "data": {
            "text/plain": [
              "array([ 7,  9,  2, 10,  5,  9,  5,  3,  9,  7])"
            ]
          },
          "metadata": {},
          "execution_count": 30
        }
      ]
    },
    {
      "cell_type": "code",
      "source": [
        "array_3=np.random.randint(0,11,size=(6,4));array_3"
      ],
      "metadata": {
        "colab": {
          "base_uri": "https://localhost:8080/"
        },
        "id": "iUxowcKZLY16",
        "outputId": "acf4b289-a4dc-4517-e924-bd80e4ceb473"
      },
      "id": "iUxowcKZLY16",
      "execution_count": null,
      "outputs": [
        {
          "output_type": "execute_result",
          "data": {
            "text/plain": [
              "array([[10,  7,  3,  2],\n",
              "       [ 6,  5,  2,  7],\n",
              "       [ 7,  8,  7,  4],\n",
              "       [ 5,  3,  1,  0],\n",
              "       [ 7,  4,  1, 10],\n",
              "       [ 3,  7,  8,  2]])"
            ]
          },
          "metadata": {},
          "execution_count": 4
        }
      ]
    },
    {
      "cell_type": "code",
      "source": [
        "split_array_3=np.split(array_3,2,axis=0);split_array_3"
      ],
      "metadata": {
        "colab": {
          "base_uri": "https://localhost:8080/"
        },
        "id": "Vljv2azLkUZ6",
        "outputId": "264a1bdd-1366-4791-c0d2-8af699681e26"
      },
      "id": "Vljv2azLkUZ6",
      "execution_count": null,
      "outputs": [
        {
          "output_type": "execute_result",
          "data": {
            "text/plain": [
              "[array([[10,  7,  3,  2],\n",
              "        [ 6,  5,  2,  7],\n",
              "        [ 7,  8,  7,  4]]),\n",
              " array([[ 5,  3,  1,  0],\n",
              "        [ 7,  4,  1, 10],\n",
              "        [ 3,  7,  8,  2]])]"
            ]
          },
          "metadata": {},
          "execution_count": 5
        }
      ]
    },
    {
      "cell_type": "code",
      "source": [
        "array_4=np.random.randint(0,11,size=(3,6));array_4"
      ],
      "metadata": {
        "colab": {
          "base_uri": "https://localhost:8080/"
        },
        "id": "JGIEswM2kzGP",
        "outputId": "214eaf56-0fcb-4ee3-9f4c-6a6560aa8a8f"
      },
      "id": "JGIEswM2kzGP",
      "execution_count": null,
      "outputs": [
        {
          "output_type": "execute_result",
          "data": {
            "text/plain": [
              "array([[ 7,  4,  0,  5,  7,  4],\n",
              "       [ 4,  1,  0,  8,  6,  7],\n",
              "       [ 1,  3,  6, 10,  7,  6]])"
            ]
          },
          "metadata": {},
          "execution_count": 6
        }
      ]
    },
    {
      "cell_type": "code",
      "source": [
        "split_array_4=np.split(array_4,2,axis=1);split_array_4"
      ],
      "metadata": {
        "colab": {
          "base_uri": "https://localhost:8080/"
        },
        "id": "swrWndTZk_aZ",
        "outputId": "d017374d-65a9-4ee3-d779-6537a66f5b0d"
      },
      "id": "swrWndTZk_aZ",
      "execution_count": null,
      "outputs": [
        {
          "output_type": "execute_result",
          "data": {
            "text/plain": [
              "[array([[7, 4, 0],\n",
              "        [4, 1, 0],\n",
              "        [1, 3, 6]]),\n",
              " array([[ 5,  7,  4],\n",
              "        [ 8,  6,  7],\n",
              "        [10,  7,  6]])]"
            ]
          },
          "metadata": {},
          "execution_count": 7
        }
      ]
    },
    {
      "cell_type": "markdown",
      "id": "41ad50a7-466b-42cb-8a45-9b724684b47e",
      "metadata": {
        "id": "41ad50a7-466b-42cb-8a45-9b724684b47e"
      },
      "source": [
        "### Exercise 8: Mathematical Functions and Aggregations\n",
        "\n",
        "- Create a 1D NumPy array with random integers between 1 and 100 of size 15. Compute and print the mean, median, standard deviation, and variance of the array.\n",
        "\n",
        "- Create a 2D NumPy array of shape (4, 4) with random integers between 1 and 50. Compute and print the sum of each row and each column.\n",
        "\n",
        "- Create a 3D NumPy array of shape (2, 3, 4) with random integers between 1 and 20. Find the maximum and minimum values along each axis and print them."
      ]
    },
    {
      "cell_type": "code",
      "source": [
        "array_8=np.random.randint(1,101,size=15);array_8"
      ],
      "metadata": {
        "colab": {
          "base_uri": "https://localhost:8080/"
        },
        "id": "LShjA5-0lIJi",
        "outputId": "07d52149-786a-4b32-d297-4fc71e60967b"
      },
      "id": "LShjA5-0lIJi",
      "execution_count": null,
      "outputs": [
        {
          "output_type": "execute_result",
          "data": {
            "text/plain": [
              "array([65, 77, 29, 82,  6, 96, 15, 14, 92, 62,  9, 84, 12, 79, 63])"
            ]
          },
          "metadata": {},
          "execution_count": 8
        }
      ]
    },
    {
      "cell_type": "code",
      "source": [
        "print(f\"mean:{np.mean(array_8)},median:{np.median(array_8)}, standard_deviation: {np.std(array_8)},variance:{np.var(array_8)}\")"
      ],
      "metadata": {
        "colab": {
          "base_uri": "https://localhost:8080/"
        },
        "id": "1TIqmHcGn7rM",
        "outputId": "de0c97cd-ab26-4100-eecf-f601c87fe5a9"
      },
      "id": "1TIqmHcGn7rM",
      "execution_count": null,
      "outputs": [
        {
          "output_type": "stream",
          "name": "stdout",
          "text": [
            "mean:52.333333333333336,median:63.0, standard_deviation: 32.77126112244623,variance:1073.9555555555555\n"
          ]
        }
      ]
    },
    {
      "cell_type": "code",
      "source": [
        "array_81=np.random.randint(1,51,size=(4,4));array_81"
      ],
      "metadata": {
        "colab": {
          "base_uri": "https://localhost:8080/"
        },
        "id": "HVZfPju5spZn",
        "outputId": "97eb6bba-af63-4f90-8969-aa2764271914"
      },
      "id": "HVZfPju5spZn",
      "execution_count": null,
      "outputs": [
        {
          "output_type": "execute_result",
          "data": {
            "text/plain": [
              "array([[ 4, 33, 31, 11],\n",
              "       [47, 25,  2, 21],\n",
              "       [10, 33,  7,  8],\n",
              "       [44, 35, 22, 37]])"
            ]
          },
          "metadata": {},
          "execution_count": 11
        }
      ]
    },
    {
      "cell_type": "markdown",
      "id": "c5e0e742-8ce5-47f6-a71c-1b2b1c9dc736",
      "metadata": {
        "id": "c5e0e742-8ce5-47f6-a71c-1b2b1c9dc736"
      },
      "source": [
        "### Exercise 9: Reshaping and Transposing Arrays\n",
        "\n",
        "- Create a 1D NumPy array with the numbers from 1 to 12. Reshape the array to a 2D array of shape (3, 4) and print it.\n",
        "\n",
        "- Create a 2D NumPy array of shape (3, 4) with random integers between 1 and 10. Transpose the array and print the transposed array.\n",
        "\n",
        "- Create a 2D NumPy array of shape (2, 3) with random integers between 1 and 10. Flatten the array to 1D and print the result."
      ]
    },
    {
      "cell_type": "code",
      "source": [
        "array_9=np.array(range(1,13)).reshape(3,4);array_9"
      ],
      "metadata": {
        "colab": {
          "base_uri": "https://localhost:8080/"
        },
        "id": "FvYUgwp4tt64",
        "outputId": "ab94603c-d9b8-45d3-ebda-1dc687506939"
      },
      "id": "FvYUgwp4tt64",
      "execution_count": null,
      "outputs": [
        {
          "output_type": "execute_result",
          "data": {
            "text/plain": [
              "array([[ 1,  2,  3,  4],\n",
              "       [ 5,  6,  7,  8],\n",
              "       [ 9, 10, 11, 12]])"
            ]
          },
          "metadata": {},
          "execution_count": 12
        }
      ]
    },
    {
      "cell_type": "code",
      "source": [
        "array_91=np.random.randint(1,11,size=(3,4));array_91"
      ],
      "metadata": {
        "colab": {
          "base_uri": "https://localhost:8080/"
        },
        "id": "ZB71VUHvuElf",
        "outputId": "b0b886b4-97f6-4de3-a6ce-bf6e2b6655bd"
      },
      "id": "ZB71VUHvuElf",
      "execution_count": null,
      "outputs": [
        {
          "output_type": "execute_result",
          "data": {
            "text/plain": [
              "array([[ 1,  2,  5, 10],\n",
              "       [ 5,  2,  4,  7],\n",
              "       [ 9,  7,  2,  5]])"
            ]
          },
          "metadata": {},
          "execution_count": 14
        }
      ]
    },
    {
      "cell_type": "code",
      "source": [
        "array_91_tr=np.transpose(array_91);array_91_tr"
      ],
      "metadata": {
        "colab": {
          "base_uri": "https://localhost:8080/"
        },
        "id": "k19eBEMCv4q4",
        "outputId": "dc80e4f1-c1ef-475f-c4be-8b1c39e32f91"
      },
      "id": "k19eBEMCv4q4",
      "execution_count": null,
      "outputs": [
        {
          "output_type": "execute_result",
          "data": {
            "text/plain": [
              "array([[ 1,  5,  9],\n",
              "       [ 2,  2,  7],\n",
              "       [ 5,  4,  2],\n",
              "       [10,  7,  5]])"
            ]
          },
          "metadata": {},
          "execution_count": 15
        }
      ]
    },
    {
      "cell_type": "code",
      "source": [
        "array_91_fl=np.random.randint(1,11,size=(2,3)).flatten();array_91_fl"
      ],
      "metadata": {
        "colab": {
          "base_uri": "https://localhost:8080/"
        },
        "id": "DBqBEtKXwDT6",
        "outputId": "73dece6d-038a-4b06-82cb-d5b0a0ce9ca8"
      },
      "id": "DBqBEtKXwDT6",
      "execution_count": null,
      "outputs": [
        {
          "output_type": "execute_result",
          "data": {
            "text/plain": [
              "array([8, 4, 6, 3, 4, 6])"
            ]
          },
          "metadata": {},
          "execution_count": 19
        }
      ]
    },
    {
      "cell_type": "markdown",
      "id": "1fa80520-2e63-47eb-aaee-146b270ad4d2",
      "metadata": {
        "id": "1fa80520-2e63-47eb-aaee-146b270ad4d2"
      },
      "source": [
        "### Exercise 10: Broadcasting and Vectorized Operations\n",
        "\n",
        "- Create a 2D NumPy array of shape (3, 4) with random integers between 1 and 10. Subtract the mean of each column from the respective column elements and print the result.\n",
        "\n",
        "- Create two 1D NumPy arrays of length 4 with random integers between 1 and 5. Use broadcasting to compute and print the outer product of the two arrays.\n",
        "\n",
        "- Create a 2D NumPy array of shape (4, 5) with random integers between 1 and 10. Add 10 to all elements of the array that are greater than 5 and print the modified array."
      ]
    },
    {
      "cell_type": "code",
      "source": [
        "array_10=np.random.randint(1,11,size=(3,4));array_10_mean=np.mean(array_10,axis=0);array_10_mean\n"
      ],
      "metadata": {
        "colab": {
          "base_uri": "https://localhost:8080/"
        },
        "id": "7ZqzSH-cw8au",
        "outputId": "a54cb4fa-0a6b-478b-d378-e58b45701dba"
      },
      "id": "7ZqzSH-cw8au",
      "execution_count": null,
      "outputs": [
        {
          "output_type": "execute_result",
          "data": {
            "text/plain": [
              "array([7.        , 2.66666667, 7.        , 4.33333333])"
            ]
          },
          "metadata": {},
          "execution_count": 21
        }
      ]
    },
    {
      "cell_type": "code",
      "source": [
        "array_1 = np.random.randint(1, 6, size=4)\n",
        "array_2 = np.random.randint(1, 6, size=4)\n",
        "outer_product = np.outer(array_1, array_2);outer_product"
      ],
      "metadata": {
        "colab": {
          "base_uri": "https://localhost:8080/"
        },
        "id": "VAX9p4naygc1",
        "outputId": "57f34a4f-caf7-4817-8bda-f8d38c164d78"
      },
      "id": "VAX9p4naygc1",
      "execution_count": null,
      "outputs": [
        {
          "output_type": "execute_result",
          "data": {
            "text/plain": [
              "array([[ 4,  5,  3,  4],\n",
              "       [20, 25, 15, 20],\n",
              "       [16, 20, 12, 16],\n",
              "       [ 4,  5,  3,  4]])"
            ]
          },
          "metadata": {},
          "execution_count": 20
        }
      ]
    },
    {
      "cell_type": "code",
      "source": [
        "array_10_1=np.random.randint(1,11,size=(4,5))\n",
        "array_10_1[array_10_1>5]+10;array_10_1"
      ],
      "metadata": {
        "colab": {
          "base_uri": "https://localhost:8080/"
        },
        "id": "0LyNH-2T1-2G",
        "outputId": "9d787f83-b3a4-4a3c-ba44-054c3895c22b"
      },
      "id": "0LyNH-2T1-2G",
      "execution_count": null,
      "outputs": [
        {
          "output_type": "execute_result",
          "data": {
            "text/plain": [
              "array([[ 4,  5,  3,  3, 10],\n",
              "       [ 2,  5,  8,  2,  4],\n",
              "       [ 6,  4,  7,  2,  3],\n",
              "       [ 3,  1,  1,  1,  8]])"
            ]
          },
          "metadata": {},
          "execution_count": 23
        }
      ]
    },
    {
      "cell_type": "markdown",
      "id": "445448b3-8685-42de-9ba1-144026694c0e",
      "metadata": {
        "id": "445448b3-8685-42de-9ba1-144026694c0e"
      },
      "source": [
        "### Exercise 11: Sorting and Searching Arrays\n",
        "\n",
        "- Create a 1D NumPy array with random integers between 1 and 20 of size 10. Sort the array in ascending order and print the sorted array.\n",
        "\n",
        "- Create a 2D NumPy array of shape (3, 5) with random integers between 1 and 50. Sort the array by the second column and print the result.\n",
        "\n",
        "- Create a 1D NumPy array with random integers between 1 and 100 of size 15. Find and print the indices of all elements greater than 50."
      ]
    },
    {
      "cell_type": "code",
      "source": [
        "array_11=np.random.randint(1,12,size=10)\n",
        "np.sort(array_11)"
      ],
      "metadata": {
        "colab": {
          "base_uri": "https://localhost:8080/"
        },
        "id": "Wu31oBYl8Fxy",
        "outputId": "8b567333-2c7c-49a4-8a9f-b5efbaa03f09"
      },
      "id": "Wu31oBYl8Fxy",
      "execution_count": null,
      "outputs": [
        {
          "output_type": "execute_result",
          "data": {
            "text/plain": [
              "array([ 1,  2,  3,  4,  5,  5,  7,  8,  9, 11])"
            ]
          },
          "metadata": {},
          "execution_count": 24
        }
      ]
    },
    {
      "cell_type": "code",
      "source": [
        "array_11_2d=np.random.randint(1,51,size=(3,5));array_11_2d"
      ],
      "metadata": {
        "colab": {
          "base_uri": "https://localhost:8080/"
        },
        "id": "tyHIW7s38mDp",
        "outputId": "b0eb8174-4e02-45ee-cb8c-f85cad2d4218"
      },
      "id": "tyHIW7s38mDp",
      "execution_count": null,
      "outputs": [
        {
          "output_type": "execute_result",
          "data": {
            "text/plain": [
              "array([[29, 36,  5, 32,  7],\n",
              "       [16, 35,  9, 19, 26],\n",
              "       [48,  4, 34, 18, 28]])"
            ]
          },
          "metadata": {},
          "execution_count": 28
        }
      ]
    },
    {
      "cell_type": "code",
      "source": [
        "sorted_array = array_11_2d[array_11_2d[:, 1].argsort()];sorted_array"
      ],
      "metadata": {
        "colab": {
          "base_uri": "https://localhost:8080/"
        },
        "id": "1MScVp42-AJo",
        "outputId": "4e721dc9-e8c9-44ff-c045-f3dce1993676"
      },
      "id": "1MScVp42-AJo",
      "execution_count": null,
      "outputs": [
        {
          "output_type": "execute_result",
          "data": {
            "text/plain": [
              "array([[48,  4, 34, 18, 28],\n",
              "       [16, 35,  9, 19, 26],\n",
              "       [29, 36,  5, 32,  7]])"
            ]
          },
          "metadata": {},
          "execution_count": 29
        }
      ]
    },
    {
      "cell_type": "code",
      "source": [
        "array_11_1=np.random.randint(1,101,size=15)\n",
        "array_11_1[array_11_1>50]"
      ],
      "metadata": {
        "colab": {
          "base_uri": "https://localhost:8080/"
        },
        "id": "BG5d0ebK-VNC",
        "outputId": "e3a7ed30-8b8f-406b-f91e-a023b7f74902"
      },
      "id": "BG5d0ebK-VNC",
      "execution_count": null,
      "outputs": [
        {
          "output_type": "execute_result",
          "data": {
            "text/plain": [
              "array([91, 82, 99, 67, 57, 95, 55])"
            ]
          },
          "metadata": {},
          "execution_count": 30
        }
      ]
    },
    {
      "cell_type": "markdown",
      "id": "cae87b85-1b79-465b-8f55-88041e823df9",
      "metadata": {
        "id": "cae87b85-1b79-465b-8f55-88041e823df9"
      },
      "source": [
        "### Exercise 12: Linear Algebra with NumPy\n",
        "\n",
        "- Create a 2D NumPy array of shape (2, 2) with random integers between 1 and 10. Compute and print the determinant of the array.\n",
        "\n",
        "- Create a 2D NumPy array of shape (3, 3) with random integers between 1 and 5. Compute and print the eigenvalues and eigenvectors of the array.\n",
        "\n",
        "- Create two 2D NumPy arrays of shape (2, 3) and (3, 2) with random integers between 1 and 10. Compute and print the matrix product of the two arrays."
      ]
    },
    {
      "cell_type": "code",
      "source": [
        "array_12=np.random.randint(1,11,size=(2,2))\n",
        "det_array_12=np.linalg.det(array_12);det_array_12"
      ],
      "metadata": {
        "colab": {
          "base_uri": "https://localhost:8080/"
        },
        "id": "YiMpx878-lFR",
        "outputId": "3ec3c465-4839-49de-d776-2734323372c9"
      },
      "id": "YiMpx878-lFR",
      "execution_count": null,
      "outputs": [
        {
          "output_type": "execute_result",
          "data": {
            "text/plain": [
              "-20.000000000000007"
            ]
          },
          "metadata": {},
          "execution_count": 31
        }
      ]
    },
    {
      "cell_type": "code",
      "source": [
        "A=np.random.randint(1,6,size=(3,3))\n",
        "eigenvalues,eigenvectors=np.linalg.eig(A); eigenvalues,eigenvectors"
      ],
      "metadata": {
        "colab": {
          "base_uri": "https://localhost:8080/"
        },
        "id": "3gh02epm_11r",
        "outputId": "3ef1273d-23b9-47cd-ef48-550dfa642331"
      },
      "id": "3gh02epm_11r",
      "execution_count": null,
      "outputs": [
        {
          "output_type": "execute_result",
          "data": {
            "text/plain": [
              "(array([8.32875262+0.j        , 0.83562369+0.61832599j,\n",
              "        0.83562369-0.61832599j]),\n",
              " array([[ 0.56032725+0.j        ,  0.47927842-0.25058067j,\n",
              "          0.47927842+0.25058067j],\n",
              "        [ 0.44638471+0.j        , -0.76363432+0.j        ,\n",
              "         -0.76363432-0.j        ],\n",
              "        [ 0.69769196+0.j        ,  0.21495678+0.27956705j,\n",
              "          0.21495678-0.27956705j]]))"
            ]
          },
          "metadata": {},
          "execution_count": 32
        }
      ]
    },
    {
      "cell_type": "code",
      "source": [
        "B=np.random.randint(1,11,size=(2,3))\n",
        "C=np.random.randint(1,11,size=(3,2))\n",
        "print(np.dot(B,C))"
      ],
      "metadata": {
        "colab": {
          "base_uri": "https://localhost:8080/"
        },
        "id": "8YcmREZBAnOo",
        "outputId": "44c492ea-afde-44aa-edd3-71498223fc98"
      },
      "id": "8YcmREZBAnOo",
      "execution_count": null,
      "outputs": [
        {
          "output_type": "stream",
          "name": "stdout",
          "text": [
            "[[36 86]\n",
            " [94 65]]\n"
          ]
        }
      ]
    },
    {
      "cell_type": "markdown",
      "id": "eecfc1f7-31bd-4fd5-b2c7-92cf7ee6098a",
      "metadata": {
        "id": "eecfc1f7-31bd-4fd5-b2c7-92cf7ee6098a"
      },
      "source": [
        "### Exercise 13: Random Sampling and Distributions\n",
        "\n",
        "- Create a 1D NumPy array of 10 random samples from a uniform distribution over [0, 1) and print the array.\n",
        "\n",
        "- Create a 2D NumPy array of shape (3, 3) with random samples from a normal distribution with mean 0 and standard deviation 1. Print the array.\n",
        "\n",
        "- Create a 1D NumPy array of 20 random integers between 1 and 100. Compute and print the histogram of the array with 5 bins."
      ]
    },
    {
      "cell_type": "code",
      "source": [
        "array_13=np.random.uniform(0,1,10);array_13"
      ],
      "metadata": {
        "colab": {
          "base_uri": "https://localhost:8080/"
        },
        "id": "fW1WjMyIBVrD",
        "outputId": "ff3dd022-2de2-452c-b1e3-6df53c0bc5bf"
      },
      "id": "fW1WjMyIBVrD",
      "execution_count": null,
      "outputs": [
        {
          "output_type": "execute_result",
          "data": {
            "text/plain": [
              "array([0.30201061, 0.75006904, 0.46556926, 0.75514332, 0.37023976,\n",
              "       0.26962561, 0.43322893, 0.33811603, 0.89535643, 0.38909513])"
            ]
          },
          "metadata": {},
          "execution_count": 34
        }
      ]
    },
    {
      "cell_type": "code",
      "source": [
        "np.random.normal(0,1,size=(3,3))"
      ],
      "metadata": {
        "colab": {
          "base_uri": "https://localhost:8080/"
        },
        "id": "8FsXbFGZDBCi",
        "outputId": "a5941e5d-14ee-4dba-cfc9-36bd03dba3c4"
      },
      "id": "8FsXbFGZDBCi",
      "execution_count": null,
      "outputs": [
        {
          "output_type": "execute_result",
          "data": {
            "text/plain": [
              "array([[ 0.43520698, -0.80072527, -0.61626663],\n",
              "       [-0.02238822, -1.35080576, -0.9664748 ],\n",
              "       [ 0.49687694, -0.75413247, -1.48000305]])"
            ]
          },
          "metadata": {},
          "execution_count": 35
        }
      ]
    },
    {
      "cell_type": "code",
      "source": [
        "random_array=np.random.randint(1,100,20)"
      ],
      "metadata": {
        "id": "3fkzhLvGDsKf"
      },
      "id": "3fkzhLvGDsKf",
      "execution_count": null,
      "outputs": []
    },
    {
      "cell_type": "code",
      "source": [
        "hist, bin_edges = np.histogram(random_array, bins=5)\n",
        "print(hist)\n",
        "print(bin_edges)"
      ],
      "metadata": {
        "colab": {
          "base_uri": "https://localhost:8080/"
        },
        "id": "Im_hPSYeEMns",
        "outputId": "805a2a23-6411-469a-a387-121987c2226e"
      },
      "id": "Im_hPSYeEMns",
      "execution_count": null,
      "outputs": [
        {
          "output_type": "stream",
          "name": "stdout",
          "text": [
            "[4 1 3 6 6]\n",
            "[ 2. 21. 40. 59. 78. 97.]\n"
          ]
        }
      ]
    },
    {
      "cell_type": "markdown",
      "id": "a26d6e8f-d94c-46d1-97ab-e52e09ded457",
      "metadata": {
        "id": "a26d6e8f-d94c-46d1-97ab-e52e09ded457"
      },
      "source": [
        "### Exercise 14: Advanced Indexing and Selection\n",
        "\n",
        "- Create a 2D NumPy array of shape (5, 5) with random integers between 1 and 20. Select and print the diagonal elements of the array.\n",
        "\n",
        "- Create a 1D NumPy array of 10 random integers between 1 and 50. Use advanced indexing to select and print all elements that are prime numbers.\n",
        "\n",
        "- Create a 2D NumPy array of shape (4, 4) with random integers between 1 and 10. Select and print all elements that are even numbers."
      ]
    },
    {
      "cell_type": "code",
      "source": [
        "array_14=np.random.randint(1,21,size=(5,5));array_14"
      ],
      "metadata": {
        "colab": {
          "base_uri": "https://localhost:8080/"
        },
        "id": "MocxOCAHEfDA",
        "outputId": "69168af2-26c3-4754-deb0-77d98e325373"
      },
      "id": "MocxOCAHEfDA",
      "execution_count": null,
      "outputs": [
        {
          "output_type": "execute_result",
          "data": {
            "text/plain": [
              "array([[10, 18, 17, 11,  9],\n",
              "       [10, 14,  7, 16,  5],\n",
              "       [ 6, 12, 19, 16,  6],\n",
              "       [ 2, 19, 14, 19,  7],\n",
              "       [ 2, 10, 10, 15, 13]])"
            ]
          },
          "metadata": {},
          "execution_count": 42
        }
      ]
    },
    {
      "cell_type": "code",
      "source": [
        "np.diag(array_14)"
      ],
      "metadata": {
        "colab": {
          "base_uri": "https://localhost:8080/"
        },
        "id": "GD_eWPDnFNWQ",
        "outputId": "3ee5d51a-a0a1-4e13-ae5d-6aa81205124d"
      },
      "id": "GD_eWPDnFNWQ",
      "execution_count": null,
      "outputs": [
        {
          "output_type": "execute_result",
          "data": {
            "text/plain": [
              "array([10, 14, 19, 19, 13])"
            ]
          },
          "metadata": {},
          "execution_count": 43
        }
      ]
    },
    {
      "cell_type": "code",
      "source": [
        "random_array = np.random.randint(1, 51, size=10)\n",
        "def is_prime(n):\n",
        "    if n < 2:\n",
        "        return False\n",
        "    for i in range(2, int(np.sqrt(n)) + 1):\n",
        "        if n % i == 0:\n",
        "            return False\n",
        "    return True\n",
        "\n",
        "prime_mask = np.array([is_prime(num) for num in random_array])\n",
        "\n",
        "prime_numbers = random_array[prime_mask]\n"
      ],
      "metadata": {
        "id": "gnG4TyJ7OKaO"
      },
      "id": "gnG4TyJ7OKaO",
      "execution_count": 3,
      "outputs": []
    },
    {
      "cell_type": "code",
      "source": [
        "prime_numbers"
      ],
      "metadata": {
        "colab": {
          "base_uri": "https://localhost:8080/"
        },
        "id": "Ge03s_EixH7t",
        "outputId": "e8732545-90b7-4791-e902-970c123eb293"
      },
      "id": "Ge03s_EixH7t",
      "execution_count": 4,
      "outputs": [
        {
          "output_type": "execute_result",
          "data": {
            "text/plain": [
              "array([ 2, 41,  2,  7, 31, 41])"
            ]
          },
          "metadata": {},
          "execution_count": 4
        }
      ]
    },
    {
      "cell_type": "markdown",
      "id": "b54fdda9-0bac-4963-8200-26bf0cb6ed3a",
      "metadata": {
        "id": "b54fdda9-0bac-4963-8200-26bf0cb6ed3a"
      },
      "source": [
        "### Exercise 15: Handling Missing Data\n",
        "\n",
        "- Create a 1D NumPy array of length 10 with random integers between 1 and 10. Introduce `np.nan` at random positions and print the array.\n",
        "\n",
        "- Create a 2D NumPy array of shape (3, 4) with random integers between 1 and 10. Replace all elements that are less than 5 with `np.nan` and print the array.\n",
        "\n",
        "- Create a 1D NumPy array of length 15 with random integers between 1 and 20. Identify and print the indices of all `np.nan` values in the array."
      ]
    },
    {
      "cell_type": "code",
      "source": [
        "array_1d = np.random.randint(1, 11, size=10).astype(float)\n",
        "print(array_1d)\n",
        "random_indices = np.random.choice(array_1d.size, size=3, replace=False)\n",
        "array_1d[random_indices] = np.nan\n",
        "print(array_1d)"
      ],
      "metadata": {
        "colab": {
          "base_uri": "https://localhost:8080/"
        },
        "id": "cC14RxkOxK2J",
        "outputId": "7e898685-a449-48e6-dc62-b049223f454c"
      },
      "id": "cC14RxkOxK2J",
      "execution_count": 7,
      "outputs": [
        {
          "output_type": "stream",
          "name": "stdout",
          "text": [
            "[6. 3. 6. 9. 8. 8. 6. 7. 8. 8.]\n",
            "[ 6. nan nan  9.  8.  8.  6.  7.  8. nan]\n"
          ]
        }
      ]
    },
    {
      "cell_type": "code",
      "source": [
        "array_2d = np.random.randint(1, 11, size=(3, 4)).astype(float)\n",
        "array_2d[array_2d < 5] = np.nan\n",
        "array_2d"
      ],
      "metadata": {
        "colab": {
          "base_uri": "https://localhost:8080/"
        },
        "id": "DSLQNzsmyYoG",
        "outputId": "5606657a-0cc4-4139-e2dd-622d245ccfe6"
      },
      "id": "DSLQNzsmyYoG",
      "execution_count": 8,
      "outputs": [
        {
          "output_type": "execute_result",
          "data": {
            "text/plain": [
              "array([[ 7.,  8., nan, 10.],\n",
              "       [ 5.,  7., nan, 10.],\n",
              "       [ 8.,  6., 10.,  5.]])"
            ]
          },
          "metadata": {},
          "execution_count": 8
        }
      ]
    },
    {
      "cell_type": "code",
      "source": [
        "array_1d1=np.random.randint(1,21,size=15).astype(float)\n",
        "random_indices = np.random.choice(array_1d1.size, size=3, replace=False)\n",
        "array_1d1[random_indices] = np.nan\n",
        "nan_indices=np.where(np.isnan(array_1d1))\n",
        "nan_indices"
      ],
      "metadata": {
        "colab": {
          "base_uri": "https://localhost:8080/"
        },
        "id": "XXO3RICLys3M",
        "outputId": "2dddddc3-d280-49ed-b9c3-e15af47eb59b"
      },
      "id": "XXO3RICLys3M",
      "execution_count": 14,
      "outputs": [
        {
          "output_type": "execute_result",
          "data": {
            "text/plain": [
              "(array([0, 1, 8]),)"
            ]
          },
          "metadata": {},
          "execution_count": 14
        }
      ]
    },
    {
      "cell_type": "markdown",
      "id": "33d9de84-962e-4abb-baa6-d23ed68d3a8e",
      "metadata": {
        "id": "33d9de84-962e-4abb-baa6-d23ed68d3a8e"
      },
      "source": [
        "### Exercise 16: Performance Optimization with NumPy\n",
        "\n",
        "- Create a large 1D NumPy array with 1 million random integers between 1 and 100. Compute the mean and standard deviation using NumPy functions and measure the time taken.\n",
        "\n",
        "- Create two large 2D NumPy arrays of shape (1000, 1000) with random integers between 1 and 10. Perform element-wise addition and measure the time taken.\n",
        "\n",
        "- Create a 3D NumPy array of shape (100, 100, 100) with random integers between 1 and 10. Compute the sum along each axis and measure the time taken."
      ]
    },
    {
      "cell_type": "code",
      "source": [
        "array_16=np.random.randint(1,101,size=1000000)\n",
        "print(np.mean(array_16),np.std(array_16))"
      ],
      "metadata": {
        "colab": {
          "base_uri": "https://localhost:8080/"
        },
        "id": "kluMwI4Cz4D6",
        "outputId": "84792afb-b39c-441f-e88c-385710c227a8"
      },
      "id": "kluMwI4Cz4D6",
      "execution_count": 15,
      "outputs": [
        {
          "output_type": "stream",
          "name": "stdout",
          "text": [
            "50.502514 28.851420340770122\n"
          ]
        }
      ]
    },
    {
      "cell_type": "code",
      "source": [
        "array_16_2d=np.random.randint(1,11,size=(1000,1000))"
      ],
      "metadata": {
        "id": "XojHPgCD08oi"
      },
      "id": "XojHPgCD08oi",
      "execution_count": null,
      "outputs": []
    },
    {
      "cell_type": "code",
      "source": [
        "import time\n",
        "\n",
        "array_1d_large = np.random.randint(1, 101, size=1000000)\n",
        "\n",
        "start_time = time.time()\n",
        "mean_1d = np.mean(array_1d_large)\n",
        "std_1d = np.std(array_1d_large)\n",
        "end_time = time.time()\n",
        "time_1d = end_time - start_time\n",
        "\n",
        "print(f\"Mean of 1D array: {mean_1d}\")\n",
        "print(f\"Standard deviation of 1D array: {std_1d}\")\n",
        "print(f\"Time taken for mean and std of 1D array: {time_1d:.6f} seconds\")\n",
        "\n",
        "\n",
        "\n"
      ],
      "metadata": {
        "colab": {
          "base_uri": "https://localhost:8080/"
        },
        "id": "eS6QDoAi1VCh",
        "outputId": "6742e2c2-2f9a-4502-884c-5cbfb618cbb5"
      },
      "id": "eS6QDoAi1VCh",
      "execution_count": 25,
      "outputs": [
        {
          "output_type": "stream",
          "name": "stdout",
          "text": [
            "Mean of 1D array: 50.51452\n",
            "Standard deviation of 1D array: 28.851840481494417\n",
            "Time taken for mean and std of 1D array: 0.010160 seconds\n"
          ]
        }
      ]
    },
    {
      "cell_type": "code",
      "source": [
        "array_2d_a = np.random.randint(1, 11, size=(1000, 1000))\n",
        "array_2d_b = np.random.randint(1, 11, size=(1000, 1000))\n",
        "\n",
        "start_time = time.time()\n",
        "array_2d_sum = array_2d_a + array_2d_b\n",
        "end_time = time.time()\n",
        "time_2d_addition = end_time - start_time\n",
        "\n",
        "print(f\"\\nTime taken for element-wise addition of 2D arrays: {time_2d_addition:.6f} seconds\")"
      ],
      "metadata": {
        "colab": {
          "base_uri": "https://localhost:8080/"
        },
        "id": "bH26Jn3h8hg0",
        "outputId": "25f96af2-f21b-4f53-fc95-8f19dc25d295"
      },
      "id": "bH26Jn3h8hg0",
      "execution_count": 23,
      "outputs": [
        {
          "output_type": "stream",
          "name": "stdout",
          "text": [
            "\n",
            "Time taken for element-wise addition of 2D arrays: 0.012854 seconds\n"
          ]
        }
      ]
    },
    {
      "cell_type": "code",
      "source": [
        "array_3d = np.random.randint(1, 11, size=(100, 100, 100))\n",
        "\n",
        "start_time = time.time()\n",
        "sum_axis_0 = np.sum(array_3d, axis=0)\n",
        "sum_axis_1 = np.sum(array_3d, axis=1)\n",
        "sum_axis_2 = np.sum(array_3d, axis=2)\n",
        "end_time = time.time()\n",
        "time_3d_sum = end_time - start_time\n",
        "\n",
        "print(f\"\\nTime taken to compute sum along all axes for 3D array: {time_3d_sum:.6f} seconds\")"
      ],
      "metadata": {
        "colab": {
          "base_uri": "https://localhost:8080/"
        },
        "id": "oF8yu_Cq8mSk",
        "outputId": "afc376cd-b35d-41e5-b549-1b65cc04b5c3"
      },
      "id": "oF8yu_Cq8mSk",
      "execution_count": 24,
      "outputs": [
        {
          "output_type": "stream",
          "name": "stdout",
          "text": [
            "\n",
            "Time taken to compute sum along all axes for 3D array: 0.003175 seconds\n"
          ]
        }
      ]
    },
    {
      "cell_type": "markdown",
      "id": "f032400e-d7e4-47dd-846f-b76e7fac9f72",
      "metadata": {
        "id": "f032400e-d7e4-47dd-846f-b76e7fac9f72"
      },
      "source": [
        "### Exercise 17: Cumulative and Aggregate Functions\n",
        "\n",
        "- Create a 1D NumPy array with the numbers from 1 to 10. Compute and print the cumulative sum and cumulative product of the array.\n",
        "\n",
        "- Create a 2D NumPy array of shape (4, 4) with random integers between 1 and 20. Compute and print the cumulative sum along the rows and the columns.\n",
        "\n",
        "- Create a 1D NumPy array with 10 random integers between 1 and 50. Compute and print the minimum, maximum, and sum of the array."
      ]
    },
    {
      "cell_type": "code",
      "source": [
        "\n",
        "array_1d = np.arange(1, 11)\n",
        "\n",
        "cumulative_sum = np.cumsum(array_1d)\n",
        "cumulative_product = np.cumprod(array_1d)\n",
        "\n",
        "print(\"1D array:\", array_1d)\n",
        "print(\"Cumulative sum:\", cumulative_sum)\n",
        "print(\"Cumulative product:\", cumulative_product)\n"
      ],
      "metadata": {
        "colab": {
          "base_uri": "https://localhost:8080/"
        },
        "id": "ReN0ffVF12UX",
        "outputId": "7ca66754-96f9-4750-b9ed-5e570dd70e9f"
      },
      "id": "ReN0ffVF12UX",
      "execution_count": 26,
      "outputs": [
        {
          "output_type": "stream",
          "name": "stdout",
          "text": [
            "1D array: [ 1  2  3  4  5  6  7  8  9 10]\n",
            "Cumulative sum: [ 1  3  6 10 15 21 28 36 45 55]\n",
            "Cumulative product: [      1       2       6      24     120     720    5040   40320  362880\n",
            " 3628800]\n"
          ]
        }
      ]
    },
    {
      "cell_type": "code",
      "source": [
        "array_2d = np.random.randint(1, 21, size=(4, 4))\n",
        "\n",
        "cumsum_rows = np.cumsum(array_2d, axis=1)\n",
        "cumsum_columns = np.cumsum(array_2d, axis=0)\n",
        "\n",
        "print(\"\\n2D array:\")\n",
        "print(array_2d)\n",
        "print(\"Cumulative sum along rows:\")\n",
        "print(cumsum_rows)\n",
        "print(\"Cumulative sum along columns:\")\n",
        "print(cumsum_columns)"
      ],
      "metadata": {
        "colab": {
          "base_uri": "https://localhost:8080/"
        },
        "id": "zvHwcXjo8tFJ",
        "outputId": "794039c3-ad8e-420d-f03f-a175fd2af7d0"
      },
      "id": "zvHwcXjo8tFJ",
      "execution_count": 27,
      "outputs": [
        {
          "output_type": "stream",
          "name": "stdout",
          "text": [
            "\n",
            "2D array:\n",
            "[[11 16  5  5]\n",
            " [12  5 18  1]\n",
            " [12  5 17  4]\n",
            " [ 1  4 17  6]]\n",
            "Cumulative sum along rows:\n",
            "[[11 27 32 37]\n",
            " [12 17 35 36]\n",
            " [12 17 34 38]\n",
            " [ 1  5 22 28]]\n",
            "Cumulative sum along columns:\n",
            "[[11 16  5  5]\n",
            " [23 21 23  6]\n",
            " [35 26 40 10]\n",
            " [36 30 57 16]]\n"
          ]
        }
      ]
    },
    {
      "cell_type": "code",
      "source": [
        "array_1d_random = np.random.randint(1, 51, size=10)\n",
        "\n",
        "\n",
        "min_value = np.min(array_1d_random)\n",
        "max_value = np.max(array_1d_random)\n",
        "sum_value = np.sum(array_1d_random)\n",
        "\n",
        "print(\"\\n1D random array:\", array_1d_random)\n",
        "print(\"Minimum value:\", min_value)\n",
        "print(\"Maximum value:\", max_value)\n",
        "print(\"Sum of the array:\", sum_value)\n"
      ],
      "metadata": {
        "colab": {
          "base_uri": "https://localhost:8080/"
        },
        "id": "Vu0aNBcR8yz4",
        "outputId": "39673211-fe73-4bdb-e50c-3272af977c46"
      },
      "id": "Vu0aNBcR8yz4",
      "execution_count": 28,
      "outputs": [
        {
          "output_type": "stream",
          "name": "stdout",
          "text": [
            "\n",
            "1D random array: [35 15 11 43 24  5 26 42 16 26]\n",
            "Minimum value: 5\n",
            "Maximum value: 43\n",
            "Sum of the array: 243\n"
          ]
        }
      ]
    },
    {
      "cell_type": "markdown",
      "id": "35575ef6-9d78-46cf-8d62-d0474ba6d98a",
      "metadata": {
        "id": "35575ef6-9d78-46cf-8d62-d0474ba6d98a"
      },
      "source": [
        "### Exercise 18: Working with Dates and Times\n",
        "\n",
        "- Create an array of 10 dates starting from today with a daily frequency and print the array.\n",
        "\n",
        "- Create an array of 5 dates starting from January 1, 2022 with a monthly frequency and print the array.\n",
        "\n",
        "- Create a 1D array with 10 random timestamps in the year 2023. Convert the timestamps to NumPy datetime64 objects and print the result."
      ]
    },
    {
      "cell_type": "code",
      "source": [
        "dates_daily = np.arange(np.datetime64('today'), np.datetime64('today') + 10, dtype='datetime64[D]')\n",
        "print(\"Array of 10 daily dates starting from today:\")\n",
        "print(dates_daily)\n",
        "\n"
      ],
      "metadata": {
        "colab": {
          "base_uri": "https://localhost:8080/"
        },
        "id": "Nrf9SVlA2pfe",
        "outputId": "44d36e68-a232-4d76-82de-4e04ef11cc51"
      },
      "id": "Nrf9SVlA2pfe",
      "execution_count": 29,
      "outputs": [
        {
          "output_type": "stream",
          "name": "stdout",
          "text": [
            "Array of 10 daily dates starting from today:\n",
            "['2024-09-27' '2024-09-28' '2024-09-29' '2024-09-30' '2024-10-01'\n",
            " '2024-10-02' '2024-10-03' '2024-10-04' '2024-10-05' '2024-10-06']\n"
          ]
        }
      ]
    },
    {
      "cell_type": "code",
      "source": [
        "dates_monthly = np.arange(np.datetime64('2022-01-01'), np.datetime64('2022-01-01') + 5, dtype='datetime64[M]')\n",
        "print(\"\\nArray of 5 monthly dates starting from January 1, 2022:\")\n",
        "print(dates_monthly)\n",
        "\n"
      ],
      "metadata": {
        "colab": {
          "base_uri": "https://localhost:8080/"
        },
        "id": "zLx1BRWM86kE",
        "outputId": "a57b1249-f0ff-455c-9bcf-7889d24288d9"
      },
      "id": "zLx1BRWM86kE",
      "execution_count": 30,
      "outputs": [
        {
          "output_type": "stream",
          "name": "stdout",
          "text": [
            "\n",
            "Array of 5 monthly dates starting from January 1, 2022:\n",
            "[]\n"
          ]
        }
      ]
    },
    {
      "cell_type": "code",
      "source": [
        "random_days_2023 = np.random.randint(0, 365, size=10)\n",
        "timestamps_2023 = np.datetime64('2023-01-01') + random_days_2023\n",
        "print(\"\\nArray of 10 random timestamps in 2023:\")\n",
        "print(timestamps_2023)"
      ],
      "metadata": {
        "colab": {
          "base_uri": "https://localhost:8080/"
        },
        "id": "T9T2SlRn89RF",
        "outputId": "0bf06776-64fd-4f8c-84c3-9e5b1b5bbf1a"
      },
      "id": "T9T2SlRn89RF",
      "execution_count": 31,
      "outputs": [
        {
          "output_type": "stream",
          "name": "stdout",
          "text": [
            "\n",
            "Array of 10 random timestamps in 2023:\n",
            "['2023-06-06' '2023-06-14' '2023-10-15' '2023-12-10' '2023-12-21'\n",
            " '2023-05-06' '2023-03-14' '2023-12-05' '2023-11-24' '2023-01-17']\n"
          ]
        }
      ]
    },
    {
      "cell_type": "markdown",
      "id": "671be5ac-f653-4eae-9e14-94c950436c72",
      "metadata": {
        "id": "671be5ac-f653-4eae-9e14-94c950436c72"
      },
      "source": [
        "### Exercise 19: Creating Arrays with Custom Data Types\n",
        "\n",
        "- Create a 1D NumPy array of length 5 with custom data type to store integers and their corresponding binary representation as strings. Print the array.\n",
        "\n",
        "- Create a 2D NumPy array of shape (3, 3) with a custom data type to store complex numbers. Initialize the array with some complex numbers and print the array.\n",
        "\n",
        "- Create a structured array to store information about books with fields: title (string), author (string), and pages (integer). Add information for three books and print the structured array."
      ]
    },
    {
      "cell_type": "code",
      "source": [
        "\n",
        "dtype_1d = [('number', np.int32), ('binary', 'U10')]\n",
        "data_1d = [(i, bin(i)[2:]) for i in range(1, 6)]\n",
        "array_1d = np.array(data_1d, dtype=dtype_1d)\n",
        "print(\"1D array with integers and their binary representation:\")\n",
        "print(array_1d)\n",
        "\n"
      ],
      "metadata": {
        "colab": {
          "base_uri": "https://localhost:8080/"
        },
        "id": "IduQTj8099dX",
        "outputId": "4ca5f6c4-5e19-42c6-c27c-a9c208999cd4"
      },
      "id": "IduQTj8099dX",
      "execution_count": 39,
      "outputs": [
        {
          "output_type": "stream",
          "name": "stdout",
          "text": [
            "1D array with integers and their binary representation:\n",
            "[(1, '1') (2, '10') (3, '11') (4, '100') (5, '101')]\n"
          ]
        }
      ]
    },
    {
      "cell_type": "code",
      "source": [
        "dtype_2d = np.dtype([('complex_num', np.complex128)])\n",
        "data_2d = np.array([[(1+2j), (3+4j), (5+6j)],\n",
        "                    [(7+8j), (9+10j), (11+12j)],\n",
        "                    [(13+14j), (15+16j), (17+18j)]], dtype=dtype_2d)\n",
        "print(\"\\n2D array with complex numbers:\")\n",
        "print(data_2d)\n",
        "\n"
      ],
      "metadata": {
        "colab": {
          "base_uri": "https://localhost:8080/"
        },
        "id": "ST0zNUlT-MFA",
        "outputId": "2637f22d-b770-478c-85c5-2aafde2881bd"
      },
      "id": "ST0zNUlT-MFA",
      "execution_count": 40,
      "outputs": [
        {
          "output_type": "stream",
          "name": "stdout",
          "text": [
            "\n",
            "2D array with complex numbers:\n",
            "[[( 1. +2.j,) ( 3. +4.j,) ( 5. +6.j,)]\n",
            " [( 7. +8.j,) ( 9.+10.j,) (11.+12.j,)]\n",
            " [(13.+14.j,) (15.+16.j,) (17.+18.j,)]]\n"
          ]
        }
      ]
    },
    {
      "cell_type": "code",
      "source": [
        "dtype_books = [('title', 'U50'), ('author', 'U50'), ('pages', np.int32)]\n",
        "books_data = [\n",
        "    ('The Great Gatsby', 'F. Scott Fitzgerald', 218),\n",
        "    ('1984', 'George Orwell', 328),\n",
        "    ('To Kill a Mockingbird', 'Harper Lee', 281)\n",
        "]\n",
        "structured_array_books = np.array(books_data, dtype=dtype_books)\n",
        "print(\"\\nStructured array with book information:\")\n",
        "print(structured_array_books)\n"
      ],
      "metadata": {
        "colab": {
          "base_uri": "https://localhost:8080/"
        },
        "id": "sibHxZnZ-R_T",
        "outputId": "8a9cd2e3-ea0e-489f-bfb1-c513a8f5f9b6"
      },
      "id": "sibHxZnZ-R_T",
      "execution_count": 41,
      "outputs": [
        {
          "output_type": "stream",
          "name": "stdout",
          "text": [
            "\n",
            "Structured array with book information:\n",
            "[('The Great Gatsby', 'F. Scott Fitzgerald', 218)\n",
            " ('1984', 'George Orwell', 328)\n",
            " ('To Kill a Mockingbird', 'Harper Lee', 281)]\n"
          ]
        }
      ]
    },
    {
      "cell_type": "markdown",
      "id": "f2b7c323-ddd3-4099-a178-f7ea83e766d4",
      "metadata": {
        "id": "f2b7c323-ddd3-4099-a178-f7ea83e766d4"
      },
      "source": [
        "### Exercise 20: Creating Arrays with Custom Data Types\n",
        "\n",
        "- Create a 1D NumPy array of length 5 with custom data type to store integers and their corresponding binary representation as strings. Print the array.\n",
        "\n",
        "- Create a 2D NumPy array of shape (3, 3) with a custom data type to store complex numbers. Initialize the array with some complex numbers and print the array.\n",
        "\n",
        "- Create a structured array to store information about books with fields: title (string), author (string), and pages (integer). Add information for three books and print the structured array."
      ]
    },
    {
      "cell_type": "code",
      "source": [
        "dtype_custom_1d = [('number', np.int32), ('binary', 'U10')]\n",
        "data_1d = [(i, bin(i)[2:]) for i in range(1, 6)]\n",
        "array_1d_custom = np.array(data_1d, dtype=dtype_custom_1d)\n",
        "print(\"1D array with integers and their binary representation:\")\n",
        "print(array_1d_custom)\n",
        "\n",
        "\n",
        "\n",
        "\n"
      ],
      "metadata": {
        "colab": {
          "base_uri": "https://localhost:8080/"
        },
        "id": "Gqw1H9mi64k4",
        "outputId": "fa059761-50f6-4deb-e317-14fb4462eded"
      },
      "id": "Gqw1H9mi64k4",
      "execution_count": 42,
      "outputs": [
        {
          "output_type": "stream",
          "name": "stdout",
          "text": [
            "1D array with integers and their binary representation:\n",
            "[(1, '1') (2, '10') (3, '11') (4, '100') (5, '101')]\n"
          ]
        }
      ]
    },
    {
      "cell_type": "code",
      "source": [
        "dtype_custom_2d = np.dtype([('complex_num', np.complex128)])\n",
        "data_2d = np.array([[(1+2j), (3+4j), (5+6j)],\n",
        "                    [(7+8j), (9+10j), (11+12j)],\n",
        "                    [(13+14j), (15+16j), (17+18j)]], dtype=dtype_custom_2d)\n",
        "\n",
        "print(\"\\n2D array with complex numbers:\")\n",
        "print(data_2d)"
      ],
      "metadata": {
        "colab": {
          "base_uri": "https://localhost:8080/"
        },
        "id": "u47E8Nz6-kwH",
        "outputId": "aaa2fb2d-67a7-416f-8e86-76e96ef0db2a"
      },
      "id": "u47E8Nz6-kwH",
      "execution_count": 43,
      "outputs": [
        {
          "output_type": "stream",
          "name": "stdout",
          "text": [
            "\n",
            "2D array with complex numbers:\n",
            "[[( 1. +2.j,) ( 3. +4.j,) ( 5. +6.j,)]\n",
            " [( 7. +8.j,) ( 9.+10.j,) (11.+12.j,)]\n",
            " [(13.+14.j,) (15.+16.j,) (17.+18.j,)]]\n"
          ]
        }
      ]
    },
    {
      "cell_type": "code",
      "source": [
        "dtype_books = [('title', 'U50'), ('author', 'U50'), ('pages', np.int32)]\n",
        "books_data = [('The Great Gatsby', 'F. Scott Fitzgerald', 218),\n",
        "              ('1984', 'George Orwell', 328),\n",
        "              ('To Kill a Mockingbird', 'Harper Lee', 281)]\n",
        "structured_array_books = np.array(books_data, dtype=dtype_books)\n",
        "\n",
        "print(\"\\nStructured array with book information:\")\n",
        "print(structured_array_books)"
      ],
      "metadata": {
        "colab": {
          "base_uri": "https://localhost:8080/"
        },
        "id": "AJzV-kg7-rew",
        "outputId": "0920f726-3fb4-4203-e840-83300d39ac12"
      },
      "id": "AJzV-kg7-rew",
      "execution_count": 44,
      "outputs": [
        {
          "output_type": "stream",
          "name": "stdout",
          "text": [
            "\n",
            "Structured array with book information:\n",
            "[('The Great Gatsby', 'F. Scott Fitzgerald', 218)\n",
            " ('1984', 'George Orwell', 328)\n",
            " ('To Kill a Mockingbird', 'Harper Lee', 281)]\n"
          ]
        }
      ]
    }
  ],
  "metadata": {
    "kernelspec": {
      "display_name": "Python 3 (ipykernel)",
      "language": "python",
      "name": "python3"
    },
    "language_info": {
      "codemirror_mode": {
        "name": "ipython",
        "version": 3
      },
      "file_extension": ".py",
      "mimetype": "text/x-python",
      "name": "python",
      "nbconvert_exporter": "python",
      "pygments_lexer": "ipython3",
      "version": "3.11.7"
    },
    "colab": {
      "provenance": [],
      "toc_visible": true
    }
  },
  "nbformat": 4,
  "nbformat_minor": 5
}