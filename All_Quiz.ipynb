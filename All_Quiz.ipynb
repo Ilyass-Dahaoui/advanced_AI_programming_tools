{
  "nbformat": 4,
  "nbformat_minor": 0,
  "metadata": {
    "colab": {
      "provenance": [],
      "authorship_tag": "ABX9TyNRnh7BzoYuI+kOA7ID/HOD",
      "include_colab_link": true
    },
    "kernelspec": {
      "name": "python3",
      "display_name": "Python 3"
    },
    "language_info": {
      "name": "python"
    }
  },
  "cells": [
    {
      "cell_type": "markdown",
      "metadata": {
        "id": "view-in-github",
        "colab_type": "text"
      },
      "source": [
        "<a href=\"https://colab.research.google.com/github/Ilyass-Dahaoui/advanced_AI_programming_tools/blob/main/All_Quiz.ipynb\" target=\"_parent\"><img src=\"https://colab.research.google.com/assets/colab-badge.svg\" alt=\"Open In Colab\"/></a>"
      ]
    },
    {
      "cell_type": "markdown",
      "source": [
        "Matplotlib_Quiz"
      ],
      "metadata": {
        "id": "785zpU3BG-Nl"
      }
    },
    {
      "cell_type": "code",
      "source": [
        " \"\"\"\n",
        "### Quiz: Introduction to Matplotlib\n",
        "\n",
        "**Question 1:** Which of the following best describes the kind of plots Matplotlib is primarily used to create?\n",
        "**Answer:** C. 2D graphical plots\n",
        "\n",
        "**Question 2:** Which of the following commands will display the plot on screen in Matplotlib?\n",
        "**Answer:** A. plt.show()\n",
        "\n",
        "**Question 3:** How do you add a legend to a plot in Matplotlib?\n",
        "**Answer:** B. plt.legend()\n",
        "\n",
        "**Question 4:** In Matplotlib, what does the 'r' in plt.title(r\"Plot of $y=x^2$\") stand for?\n",
        "**Answer:** B. Raw string\n",
        "\n",
        "**Question 5:** What does the color parameter control in a Matplotlib plot?\n",
        "**Answer:** C. The color of plot lines\n",
        "\n",
        "**Question 6:** Which of the following is not a function in Matplotlib for adjusting the appearance of your plot?\n",
        "**Answer:** C. plt.set()\n",
        "\n",
        "**Question 7:** What is the purpose of using the fig.tight_layout() method in Matplotlib?\n",
        "**Answer:** A. To prevent overlapping of subplots within a figure\n",
        "\n",
        "**Question 8:** What does the plt.figure(figsize=(10, 6)) command do?\n",
        "**Answer:** A. Creates a figure with a size of 10x6 inches\n",
        "\n",
        "**Question 9:** How can you change the scale of the axes in a Matplotlib plot?\n",
        "**Answer:** C. By using the set_xscale() and set_yscale() methods\n",
        "\n",
        "**Question 10:** What is the function of the plt.subplot() command in Matplotlib?\n",
        "**Answer:** B. To create separate sections within a single figure, each capable of holding its own plot\n",
        "\"\"\""
      ],
      "metadata": {
        "colab": {
          "base_uri": "https://localhost:8080/"
        },
        "id": "aDVt3eWxG9mk",
        "outputId": "691b1064-891f-4d9c-a52a-11b74abe3473"
      },
      "execution_count": 1,
      "outputs": [
        {
          "output_type": "stream",
          "name": "stdout",
          "text": [
            "\n",
            "### Quiz: Introduction to Matplotlib\n",
            "\n",
            "**Question 1:** Which of the following best describes the kind of plots Matplotlib is primarily used to create?  \n",
            "**Answer:** C. 2D graphical plots  \n",
            "\n",
            "**Question 2:** Which of the following commands will display the plot on screen in Matplotlib?  \n",
            "**Answer:** A. plt.show()  \n",
            "\n",
            "**Question 3:** How do you add a legend to a plot in Matplotlib?  \n",
            "**Answer:** B. plt.legend()  \n",
            "\n",
            "**Question 4:** In Matplotlib, what does the 'r' in plt.title(r\"Plot of $y=x^2$\") stand for?  \n",
            "**Answer:** B. Raw string  \n",
            "\n",
            "**Question 5:** What does the color parameter control in a Matplotlib plot?  \n",
            "**Answer:** C. The color of plot lines  \n",
            "\n",
            "**Question 6:** Which of the following is not a function in Matplotlib for adjusting the appearance of your plot?  \n",
            "**Answer:** C. plt.set()  \n",
            "\n",
            "**Question 7:** What is the purpose of using the fig.tight_layout() method in Matplotlib?  \n",
            "**Answer:** A. To prevent overlapping of subplots within a figure  \n",
            "\n",
            "**Question 8:** What does the plt.figure(figsize=(10, 6)) command do?  \n",
            "**Answer:** A. Creates a figure with a size of 10x6 inches  \n",
            "\n",
            "**Question 9:** How can you change the scale of the axes in a Matplotlib plot?  \n",
            "**Answer:** C. By using the set_xscale() and set_yscale() methods  \n",
            "\n",
            "**Question 10:** What is the function of the plt.subplot() command in Matplotlib?  \n",
            "**Answer:** B. To create separate sections within a single figure, each capable of holding its own plot  \n",
            "\n"
          ]
        }
      ]
    },
    {
      "cell_type": "markdown",
      "source": [
        "Quiz_Numpy"
      ],
      "metadata": {
        "id": "t9OhNUa2P2j5"
      }
    },
    {
      "cell_type": "code",
      "source": [
        "\"\"\"Question 1: Which of the following is true about NumPy arrays? \\n\n",
        "Answer: C. They support efficient mathematical operations such as matrix multiplication.\\n\n",
        "Question 2: How do you create a 2D NumPy array from a nested list [[1, 2], [3, 4]]?\\n\n",
        "Answer: B. np.array([[1, 2], [3, 4]])\\n\n",
        "Question 3: What is the output of the following code?\"\"\""
      ],
      "metadata": {
        "id": "MzQc32V_P4s8"
      },
      "execution_count": null,
      "outputs": []
    },
    {
      "cell_type": "code",
      "source": [
        "import numpy as np\n",
        "a = np.arange(6).reshape(2, 3)\n",
        "print(a[-1, -1])\n"
      ],
      "metadata": {
        "colab": {
          "base_uri": "https://localhost:8080/"
        },
        "id": "A0O4VdVnQGz9",
        "outputId": "77e6a7cf-34f8-4647-b199-636fe94bf7f6"
      },
      "execution_count": 2,
      "outputs": [
        {
          "output_type": "stream",
          "name": "stdout",
          "text": [
            "5\n"
          ]
        }
      ]
    },
    {
      "cell_type": "code",
      "source": [
        "\"\"\"Answer: C. 5\n",
        "\n",
        "Question 4: Which function is used to create an array with values from 0 to 10, spaced evenly by 2?\n",
        "Answer: D. Both a and c\n",
        "\n",
        "Question 5: What does the np.zeros((3, 4)) function do?\n",
        "Answer: B. Creates a 2D array with 3 rows and 4 columns, filled with zeros.\n",
        "\n",
        "Question 6: How can you find the shape of a NumPy array arr?\n",
        "Answer: C. arr.shape\n",
        "\n",
        "Question 7: What is the result of the following slicing operation?\"\"\""
      ],
      "metadata": {
        "id": "3e3tBDOQQN4Z"
      },
      "execution_count": null,
      "outputs": []
    },
    {
      "cell_type": "code",
      "source": [
        "arr = np.array([10, 20, 30, 40, 50])\n",
        "print(arr[1:4])\n"
      ],
      "metadata": {
        "colab": {
          "base_uri": "https://localhost:8080/"
        },
        "id": "vvMkiIv0QTlG",
        "outputId": "444887fa-08f7-4f4c-9649-6e3efe91e079"
      },
      "execution_count": 3,
      "outputs": [
        {
          "output_type": "stream",
          "name": "stdout",
          "text": [
            "[20 30 40]\n"
          ]
        }
      ]
    },
    {
      "cell_type": "code",
      "source": [
        "\"\"\"Answer: B. [20, 30, 40]\n",
        "\n",
        "Question 8: Which function is used to perform element-wise multiplication of two arrays a and b?\n",
        "Answer: D. Both b and c\n",
        "\n",
        "Question 9: How do you create a 1D NumPy array with values from 0 to 1 (inclusive) with 5 evenly spaced intervals?\n",
        "Answer: A. np.linspace(0, 1, 5)\n",
        "\n",
        "Question 10: Which of the following commands will correctly calculate the dot product of two 1D arrays a and b?\n",
        "Answer: B. np.dot(a, b)\"\"\""
      ],
      "metadata": {
        "id": "CGczLWg6QWP0"
      },
      "execution_count": null,
      "outputs": []
    },
    {
      "cell_type": "markdown",
      "source": [
        "Pandas_Quiz"
      ],
      "metadata": {
        "id": "Lvs0RBS7Qgkv"
      }
    },
    {
      "cell_type": "code",
      "source": [
        "\"\"\"Question 1: What is the primary purpose of using Pandas in data analysis?\n",
        "Answer: B) To perform data manipulation and analysis\n",
        "\n",
        "Question 2: What is a DataFrame in Pandas?\n",
        "Answer: B) A two-dimensional, size-mutable, and potentially heterogeneous tabular data structure with labeled axes\n",
        "\n",
        "Question 3: Which method is used to read a CSV file into a Pandas DataFrame?\n",
        "Answer: B) read_csv()\n",
        "\n",
        "Question 4: How can you select multiple columns from a DataFrame?\n",
        "Answer: A) Using a single list of column names\n",
        "\n",
        "Question 5: Which method is used to select a subset of rows and columns by label or a boolean array?\n",
        "Answer: A) .loc[]\n",
        "\n",
        "Question 6: How can you add a new column to an existing DataFrame?\n",
        "Answer: B) Assigning values to a new column name directly\n",
        "\n",
        "Question 7: What will be the result of merging two DataFrames with the same key column using the merge function?\n",
        "Answer: A) The intersection of rows based on the key column\n",
        "\n",
        "Question 8: Which function is used to concatenate two DataFrames along rows or columns?\n",
        "Answer: B) The concat function\n",
        "\n",
        "Question 9: How can you remove missing values (NaNs) from a DataFrame?\n",
        "Answer: A) Using the dropna function\n",
        "\n",
        "Question 10: What is the output of the describe function?\n",
        "Answer: B) A statistical summary of the numerical columns\"\"\""
      ],
      "metadata": {
        "id": "_11TUYWDg5ZW"
      },
      "execution_count": null,
      "outputs": []
    }
  ]
}